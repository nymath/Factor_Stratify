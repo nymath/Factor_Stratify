{
 "cells": [
  {
   "cell_type": "code",
   "execution_count": 1,
   "metadata": {},
   "outputs": [],
   "source": [
    "import pandas as pd\n",
    "import numpy as np\n",
    "import os\n",
    "import datetime"
   ]
  },
  {
   "cell_type": "code",
   "execution_count": 12,
   "metadata": {},
   "outputs": [],
   "source": [
    "ts = pd.DataFrame(np.random.randn(100,2), index=pd.date_range('2012-01-01',periods=100),columns=['a','b'])\n",
    "ts.index = pd.to_datetime(ts.index)"
   ]
  },
  {
   "cell_type": "code",
   "execution_count": 70,
   "metadata": {},
   "outputs": [],
   "source": [
    "pnl = ts / ts.shift(1) - 1\n",
    "pnl.iloc[0,:] = 0"
   ]
  },
  {
   "cell_type": "code",
   "execution_count": 71,
   "metadata": {},
   "outputs": [
    {
     "data": {
      "text/html": [
       "<div>\n",
       "<style scoped>\n",
       "    .dataframe tbody tr th:only-of-type {\n",
       "        vertical-align: middle;\n",
       "    }\n",
       "\n",
       "    .dataframe tbody tr th {\n",
       "        vertical-align: top;\n",
       "    }\n",
       "\n",
       "    .dataframe thead th {\n",
       "        text-align: right;\n",
       "    }\n",
       "</style>\n",
       "<table border=\"1\" class=\"dataframe\">\n",
       "  <thead>\n",
       "    <tr style=\"text-align: right;\">\n",
       "      <th></th>\n",
       "      <th>a</th>\n",
       "      <th>b</th>\n",
       "    </tr>\n",
       "  </thead>\n",
       "  <tbody>\n",
       "    <tr>\n",
       "      <th>2012-01-01</th>\n",
       "      <td>1.000000</td>\n",
       "      <td>1.000000</td>\n",
       "    </tr>\n",
       "    <tr>\n",
       "      <th>2012-01-02</th>\n",
       "      <td>-0.589413</td>\n",
       "      <td>-0.436276</td>\n",
       "    </tr>\n",
       "    <tr>\n",
       "      <th>2012-01-03</th>\n",
       "      <td>1.172790</td>\n",
       "      <td>0.490010</td>\n",
       "    </tr>\n",
       "    <tr>\n",
       "      <th>2012-01-04</th>\n",
       "      <td>0.824080</td>\n",
       "      <td>1.744497</td>\n",
       "    </tr>\n",
       "    <tr>\n",
       "      <th>2012-01-05</th>\n",
       "      <td>0.268152</td>\n",
       "      <td>-0.600916</td>\n",
       "    </tr>\n",
       "    <tr>\n",
       "      <th>...</th>\n",
       "      <td>...</td>\n",
       "      <td>...</td>\n",
       "    </tr>\n",
       "    <tr>\n",
       "      <th>2012-04-05</th>\n",
       "      <td>0.224628</td>\n",
       "      <td>0.521770</td>\n",
       "    </tr>\n",
       "    <tr>\n",
       "      <th>2012-04-06</th>\n",
       "      <td>-3.722379</td>\n",
       "      <td>-0.848814</td>\n",
       "    </tr>\n",
       "    <tr>\n",
       "      <th>2012-04-07</th>\n",
       "      <td>0.900410</td>\n",
       "      <td>-0.354940</td>\n",
       "    </tr>\n",
       "    <tr>\n",
       "      <th>2012-04-08</th>\n",
       "      <td>-0.341562</td>\n",
       "      <td>-0.496155</td>\n",
       "    </tr>\n",
       "    <tr>\n",
       "      <th>2012-04-09</th>\n",
       "      <td>2.847820</td>\n",
       "      <td>-1.316944</td>\n",
       "    </tr>\n",
       "  </tbody>\n",
       "</table>\n",
       "<p>100 rows × 2 columns</p>\n",
       "</div>"
      ],
      "text/plain": [
       "                   a         b\n",
       "2012-01-01  1.000000  1.000000\n",
       "2012-01-02 -0.589413 -0.436276\n",
       "2012-01-03  1.172790  0.490010\n",
       "2012-01-04  0.824080  1.744497\n",
       "2012-01-05  0.268152 -0.600916\n",
       "...              ...       ...\n",
       "2012-04-05  0.224628  0.521770\n",
       "2012-04-06 -3.722379 -0.848814\n",
       "2012-04-07  0.900410 -0.354940\n",
       "2012-04-08 -0.341562 -0.496155\n",
       "2012-04-09  2.847820 -1.316944\n",
       "\n",
       "[100 rows x 2 columns]"
      ]
     },
     "execution_count": 71,
     "metadata": {},
     "output_type": "execute_result"
    }
   ],
   "source": [
    "(pnl+1).cumprod()"
   ]
  },
  {
   "cell_type": "code",
   "execution_count": 72,
   "metadata": {},
   "outputs": [
    {
     "data": {
      "text/html": [
       "<div>\n",
       "<style scoped>\n",
       "    .dataframe tbody tr th:only-of-type {\n",
       "        vertical-align: middle;\n",
       "    }\n",
       "\n",
       "    .dataframe tbody tr th {\n",
       "        vertical-align: top;\n",
       "    }\n",
       "\n",
       "    .dataframe thead th {\n",
       "        text-align: right;\n",
       "    }\n",
       "</style>\n",
       "<table border=\"1\" class=\"dataframe\">\n",
       "  <thead>\n",
       "    <tr style=\"text-align: right;\">\n",
       "      <th></th>\n",
       "      <th>a</th>\n",
       "      <th>b</th>\n",
       "    </tr>\n",
       "  </thead>\n",
       "  <tbody>\n",
       "    <tr>\n",
       "      <th>2012-01-01</th>\n",
       "      <td>1.000000</td>\n",
       "      <td>1.000000</td>\n",
       "    </tr>\n",
       "    <tr>\n",
       "      <th>2012-01-02</th>\n",
       "      <td>-0.589413</td>\n",
       "      <td>-0.436276</td>\n",
       "    </tr>\n",
       "    <tr>\n",
       "      <th>2012-01-03</th>\n",
       "      <td>1.172790</td>\n",
       "      <td>0.490010</td>\n",
       "    </tr>\n",
       "    <tr>\n",
       "      <th>2012-01-04</th>\n",
       "      <td>0.824080</td>\n",
       "      <td>1.744497</td>\n",
       "    </tr>\n",
       "    <tr>\n",
       "      <th>2012-01-05</th>\n",
       "      <td>0.268152</td>\n",
       "      <td>-0.600916</td>\n",
       "    </tr>\n",
       "    <tr>\n",
       "      <th>...</th>\n",
       "      <td>...</td>\n",
       "      <td>...</td>\n",
       "    </tr>\n",
       "    <tr>\n",
       "      <th>2012-04-05</th>\n",
       "      <td>0.224628</td>\n",
       "      <td>0.521770</td>\n",
       "    </tr>\n",
       "    <tr>\n",
       "      <th>2012-04-06</th>\n",
       "      <td>-3.722379</td>\n",
       "      <td>-0.848814</td>\n",
       "    </tr>\n",
       "    <tr>\n",
       "      <th>2012-04-07</th>\n",
       "      <td>0.900410</td>\n",
       "      <td>-0.354940</td>\n",
       "    </tr>\n",
       "    <tr>\n",
       "      <th>2012-04-08</th>\n",
       "      <td>-0.341562</td>\n",
       "      <td>-0.496155</td>\n",
       "    </tr>\n",
       "    <tr>\n",
       "      <th>2012-04-09</th>\n",
       "      <td>2.847820</td>\n",
       "      <td>-1.316944</td>\n",
       "    </tr>\n",
       "  </tbody>\n",
       "</table>\n",
       "<p>100 rows × 2 columns</p>\n",
       "</div>"
      ],
      "text/plain": [
       "                   a         b\n",
       "2012-01-01  1.000000  1.000000\n",
       "2012-01-02 -0.589413 -0.436276\n",
       "2012-01-03  1.172790  0.490010\n",
       "2012-01-04  0.824080  1.744497\n",
       "2012-01-05  0.268152 -0.600916\n",
       "...              ...       ...\n",
       "2012-04-05  0.224628  0.521770\n",
       "2012-04-06 -3.722379 -0.848814\n",
       "2012-04-07  0.900410 -0.354940\n",
       "2012-04-08 -0.341562 -0.496155\n",
       "2012-04-09  2.847820 -1.316944\n",
       "\n",
       "[100 rows x 2 columns]"
      ]
     },
     "execution_count": 72,
     "metadata": {},
     "output_type": "execute_result"
    }
   ],
   "source": [
    "ts / ts.iloc[0,:]"
   ]
  },
  {
   "cell_type": "code",
   "execution_count": 19,
   "metadata": {},
   "outputs": [
    {
     "data": {
      "text/plain": [
       "RangeIndex(start=0, stop=100, step=1)"
      ]
     },
     "execution_count": 19,
     "metadata": {},
     "output_type": "execute_result"
    }
   ],
   "source": [
    "pd.Series(ts.index).index"
   ]
  },
  {
   "cell_type": "code",
   "execution_count": 20,
   "metadata": {},
   "outputs": [],
   "source": [
    "ll = dict(zip(['a','b','c'],list(range(3))))"
   ]
  },
  {
   "cell_type": "code",
   "execution_count": 21,
   "metadata": {},
   "outputs": [],
   "source": [
    "invmap = pd.Series(data=ll.keys(),index=ll.values())"
   ]
  },
  {
   "cell_type": "code",
   "execution_count": 22,
   "metadata": {},
   "outputs": [
    {
     "data": {
      "text/plain": [
       "[0]"
      ]
     },
     "execution_count": 22,
     "metadata": {},
     "output_type": "execute_result"
    }
   ],
   "source": [
    "invmap.index[invmap=='a'].to_list()"
   ]
  },
  {
   "cell_type": "code",
   "execution_count": 23,
   "metadata": {},
   "outputs": [
    {
     "data": {
      "text/html": [
       "<div>\n",
       "<style scoped>\n",
       "    .dataframe tbody tr th:only-of-type {\n",
       "        vertical-align: middle;\n",
       "    }\n",
       "\n",
       "    .dataframe tbody tr th {\n",
       "        vertical-align: top;\n",
       "    }\n",
       "\n",
       "    .dataframe thead th {\n",
       "        text-align: right;\n",
       "    }\n",
       "</style>\n",
       "<table border=\"1\" class=\"dataframe\">\n",
       "  <thead>\n",
       "    <tr style=\"text-align: right;\">\n",
       "      <th></th>\n",
       "      <th>a</th>\n",
       "      <th>b</th>\n",
       "    </tr>\n",
       "  </thead>\n",
       "  <tbody>\n",
       "    <tr>\n",
       "      <th>2012-01-01</th>\n",
       "      <td>-0.147512</td>\n",
       "      <td>-0.612036</td>\n",
       "    </tr>\n",
       "    <tr>\n",
       "      <th>2012-01-02</th>\n",
       "      <td>-0.325163</td>\n",
       "      <td>-0.135433</td>\n",
       "    </tr>\n",
       "    <tr>\n",
       "      <th>2012-01-03</th>\n",
       "      <td>1.657428</td>\n",
       "      <td>-0.158542</td>\n",
       "    </tr>\n",
       "    <tr>\n",
       "      <th>2012-01-04</th>\n",
       "      <td>0.014406</td>\n",
       "      <td>-0.400201</td>\n",
       "    </tr>\n",
       "    <tr>\n",
       "      <th>2012-01-05</th>\n",
       "      <td>0.597332</td>\n",
       "      <td>-0.473183</td>\n",
       "    </tr>\n",
       "    <tr>\n",
       "      <th>...</th>\n",
       "      <td>...</td>\n",
       "      <td>...</td>\n",
       "    </tr>\n",
       "    <tr>\n",
       "      <th>2012-04-05</th>\n",
       "      <td>0.640320</td>\n",
       "      <td>-0.690156</td>\n",
       "    </tr>\n",
       "    <tr>\n",
       "      <th>2012-04-06</th>\n",
       "      <td>-0.360739</td>\n",
       "      <td>-0.419391</td>\n",
       "    </tr>\n",
       "    <tr>\n",
       "      <th>2012-04-07</th>\n",
       "      <td>-0.560668</td>\n",
       "      <td>1.243364</td>\n",
       "    </tr>\n",
       "    <tr>\n",
       "      <th>2012-04-08</th>\n",
       "      <td>-1.811216</td>\n",
       "      <td>0.236023</td>\n",
       "    </tr>\n",
       "    <tr>\n",
       "      <th>2012-04-09</th>\n",
       "      <td>-1.112294</td>\n",
       "      <td>0.360223</td>\n",
       "    </tr>\n",
       "  </tbody>\n",
       "</table>\n",
       "<p>100 rows × 2 columns</p>\n",
       "</div>"
      ],
      "text/plain": [
       "                   a         b\n",
       "2012-01-01 -0.147512 -0.612036\n",
       "2012-01-02 -0.325163 -0.135433\n",
       "2012-01-03  1.657428 -0.158542\n",
       "2012-01-04  0.014406 -0.400201\n",
       "2012-01-05  0.597332 -0.473183\n",
       "...              ...       ...\n",
       "2012-04-05  0.640320 -0.690156\n",
       "2012-04-06 -0.360739 -0.419391\n",
       "2012-04-07 -0.560668  1.243364\n",
       "2012-04-08 -1.811216  0.236023\n",
       "2012-04-09 -1.112294  0.360223\n",
       "\n",
       "[100 rows x 2 columns]"
      ]
     },
     "execution_count": 23,
     "metadata": {},
     "output_type": "execute_result"
    }
   ],
   "source": [
    "ts.loc['2012-01-01':]"
   ]
  },
  {
   "cell_type": "code",
   "execution_count": 1,
   "metadata": {},
   "outputs": [
    {
     "ename": "NameError",
     "evalue": "name 'pd' is not defined",
     "output_type": "error",
     "traceback": [
      "\u001b[0;31m---------------------------------------------------------------------------\u001b[0m",
      "\u001b[0;31mNameError\u001b[0m                                 Traceback (most recent call last)",
      "\u001b[0;32m/var/folders/31/rx49cg9n64z7rn2vk4yd8d740000gn/T/ipykernel_70913/497766049.py\u001b[0m in \u001b[0;36m<module>\u001b[0;34m\u001b[0m\n\u001b[0;32m----> 1\u001b[0;31m \u001b[0mtest\u001b[0m \u001b[0;34m=\u001b[0m \u001b[0mpd\u001b[0m\u001b[0;34m.\u001b[0m\u001b[0mDataFrame\u001b[0m\u001b[0;34m(\u001b[0m\u001b[0mnp\u001b[0m\u001b[0;34m.\u001b[0m\u001b[0mrandom\u001b[0m\u001b[0;34m.\u001b[0m\u001b[0mrand\u001b[0m\u001b[0;34m(\u001b[0m\u001b[0;36m4\u001b[0m\u001b[0;34m,\u001b[0m\u001b[0;36m2\u001b[0m\u001b[0;34m)\u001b[0m\u001b[0;34m,\u001b[0m\u001b[0mcolumns\u001b[0m\u001b[0;34m=\u001b[0m\u001b[0;34m[\u001b[0m\u001b[0;34m'a'\u001b[0m\u001b[0;34m,\u001b[0m\u001b[0;34m'b'\u001b[0m\u001b[0;34m]\u001b[0m\u001b[0;34m)\u001b[0m\u001b[0;34m\u001b[0m\u001b[0;34m\u001b[0m\u001b[0m\n\u001b[0m",
      "\u001b[0;31mNameError\u001b[0m: name 'pd' is not defined"
     ]
    }
   ],
   "source": [
    "test = pd.DataFrame(np.random.rand(4,2),columns=['a','b'])"
   ]
  },
  {
   "cell_type": "code",
   "execution_count": 25,
   "metadata": {},
   "outputs": [
    {
     "data": {
      "text/plain": [
       "'0x7f9a70930e80'"
      ]
     },
     "execution_count": 25,
     "metadata": {},
     "output_type": "execute_result"
    }
   ],
   "source": [
    "hex(id(test['a']))"
   ]
  },
  {
   "cell_type": "code",
   "execution_count": 26,
   "metadata": {},
   "outputs": [
    {
     "data": {
      "text/plain": [
       "'0x7f9a70a9c1d0'"
      ]
     },
     "execution_count": 26,
     "metadata": {},
     "output_type": "execute_result"
    }
   ],
   "source": [
    "hex(id(test.iloc[0,0]))"
   ]
  },
  {
   "cell_type": "code",
   "execution_count": 27,
   "metadata": {},
   "outputs": [
    {
     "data": {
      "text/plain": [
       "'0x7f9a70a499d0'"
      ]
     },
     "execution_count": 27,
     "metadata": {},
     "output_type": "execute_result"
    }
   ],
   "source": [
    "hex(id(test))"
   ]
  },
  {
   "cell_type": "code",
   "execution_count": 28,
   "metadata": {},
   "outputs": [],
   "source": [
    "test.iloc[0,0] = 1"
   ]
  },
  {
   "cell_type": "code",
   "execution_count": 29,
   "metadata": {},
   "outputs": [],
   "source": [
    "def main():\n",
    "    tesss = test.iloc[0,0]\n",
    "    print(hex(id(tesss)))"
   ]
  },
  {
   "cell_type": "code",
   "execution_count": null,
   "metadata": {},
   "outputs": [],
   "source": []
  },
  {
   "cell_type": "code",
   "execution_count": 30,
   "metadata": {},
   "outputs": [
    {
     "data": {
      "text/html": [
       "<div>\n",
       "<style scoped>\n",
       "    .dataframe tbody tr th:only-of-type {\n",
       "        vertical-align: middle;\n",
       "    }\n",
       "\n",
       "    .dataframe tbody tr th {\n",
       "        vertical-align: top;\n",
       "    }\n",
       "\n",
       "    .dataframe thead th {\n",
       "        text-align: right;\n",
       "    }\n",
       "</style>\n",
       "<table border=\"1\" class=\"dataframe\">\n",
       "  <thead>\n",
       "    <tr style=\"text-align: right;\">\n",
       "      <th></th>\n",
       "      <th>a</th>\n",
       "      <th>b</th>\n",
       "    </tr>\n",
       "  </thead>\n",
       "  <tbody>\n",
       "    <tr>\n",
       "      <th>2012-01-01</th>\n",
       "      <td>-0.147512</td>\n",
       "      <td>-0.612036</td>\n",
       "    </tr>\n",
       "    <tr>\n",
       "      <th>2012-01-02</th>\n",
       "      <td>-0.325163</td>\n",
       "      <td>-0.135433</td>\n",
       "    </tr>\n",
       "  </tbody>\n",
       "</table>\n",
       "</div>"
      ],
      "text/plain": [
       "                   a         b\n",
       "2012-01-01 -0.147512 -0.612036\n",
       "2012-01-02 -0.325163 -0.135433"
      ]
     },
     "execution_count": 30,
     "metadata": {},
     "output_type": "execute_result"
    }
   ],
   "source": [
    "ts.loc['2012-01-01':'2012-01-02']"
   ]
  },
  {
   "cell_type": "code",
   "execution_count": 74,
   "metadata": {},
   "outputs": [
    {
     "data": {
      "text/plain": [
       "Index([], dtype='object')"
      ]
     },
     "execution_count": 74,
     "metadata": {},
     "output_type": "execute_result"
    }
   ],
   "source": [
    "ts.index.intersection([1,2])"
   ]
  },
  {
   "cell_type": "code",
   "execution_count": 80,
   "metadata": {},
   "outputs": [],
   "source": [
    "aa = [1,2,3]"
   ]
  },
  {
   "cell_type": "code",
   "execution_count": 79,
   "metadata": {},
   "outputs": [],
   "source": [
    "bb = pd.Series([1,2,3])"
   ]
  },
  {
   "cell_type": "code",
   "execution_count": 82,
   "metadata": {},
   "outputs": [
    {
     "data": {
      "text/plain": [
       "<map at 0x7f9a69265610>"
      ]
     },
     "execution_count": 82,
     "metadata": {},
     "output_type": "execute_result"
    }
   ],
   "source": [
    "bb.__iter__()"
   ]
  },
  {
   "cell_type": "code",
   "execution_count": 87,
   "metadata": {},
   "outputs": [],
   "source": [
    "import torch"
   ]
  },
  {
   "cell_type": "code",
   "execution_count": 90,
   "metadata": {},
   "outputs": [
    {
     "data": {
      "text/plain": [
       "True"
      ]
     },
     "execution_count": 90,
     "metadata": {},
     "output_type": "execute_result"
    }
   ],
   "source": [
    "'__iter__' in dir(pd.Series([1,2,3]))"
   ]
  },
  {
   "cell_type": "code",
   "execution_count": 89,
   "metadata": {},
   "outputs": [
    {
     "data": {
      "text/plain": [
       "True"
      ]
     },
     "execution_count": 89,
     "metadata": {},
     "output_type": "execute_result"
    }
   ],
   "source": [
    "'__iter__' in dir(np.array([1,2,3]))"
   ]
  },
  {
   "cell_type": "code",
   "execution_count": 88,
   "metadata": {},
   "outputs": [
    {
     "data": {
      "text/plain": [
       "True"
      ]
     },
     "execution_count": 88,
     "metadata": {},
     "output_type": "execute_result"
    }
   ],
   "source": [
    "'__iter__' in dir(torch.tensor([1,2,3]))"
   ]
  },
  {
   "cell_type": "code",
   "execution_count": 92,
   "metadata": {},
   "outputs": [
    {
     "data": {
      "text/plain": [
       "True"
      ]
     },
     "execution_count": 92,
     "metadata": {},
     "output_type": "execute_result"
    }
   ],
   "source": [
    "'__iter__' in dir(ts.index)"
   ]
  },
  {
   "cell_type": "code",
   "execution_count": 93,
   "metadata": {},
   "outputs": [
    {
     "data": {
      "text/plain": [
       "True"
      ]
     },
     "execution_count": 93,
     "metadata": {},
     "output_type": "execute_result"
    }
   ],
   "source": [
    "'__iter__' in dir(ts.columns)"
   ]
  },
  {
   "cell_type": "code",
   "execution_count": 47,
   "metadata": {},
   "outputs": [],
   "source": [
    "test = pd.DataFrame(columns=range(5))"
   ]
  },
  {
   "cell_type": "code",
   "execution_count": 45,
   "metadata": {},
   "outputs": [
    {
     "data": {
      "text/html": [
       "<div>\n",
       "<style scoped>\n",
       "    .dataframe tbody tr th:only-of-type {\n",
       "        vertical-align: middle;\n",
       "    }\n",
       "\n",
       "    .dataframe tbody tr th {\n",
       "        vertical-align: top;\n",
       "    }\n",
       "\n",
       "    .dataframe thead th {\n",
       "        text-align: right;\n",
       "    }\n",
       "</style>\n",
       "<table border=\"1\" class=\"dataframe\">\n",
       "  <thead>\n",
       "    <tr style=\"text-align: right;\">\n",
       "      <th></th>\n",
       "      <th>0</th>\n",
       "      <th>1</th>\n",
       "      <th>2</th>\n",
       "      <th>3</th>\n",
       "      <th>4</th>\n",
       "    </tr>\n",
       "  </thead>\n",
       "  <tbody>\n",
       "  </tbody>\n",
       "</table>\n",
       "</div>"
      ],
      "text/plain": [
       "Empty DataFrame\n",
       "Columns: [0, 1, 2, 3, 4]\n",
       "Index: []"
      ]
     },
     "execution_count": 45,
     "metadata": {},
     "output_type": "execute_result"
    }
   ],
   "source": [
    "test\n"
   ]
  },
  {
   "cell_type": "code",
   "execution_count": 10,
   "metadata": {},
   "outputs": [],
   "source": [
    "test.loc['2023',:] = list(range(5))"
   ]
  },
  {
   "cell_type": "code",
   "execution_count": 36,
   "metadata": {},
   "outputs": [],
   "source": [
    "ts = pd.DataFrame(np.random.randn(100,2), index=pd.date_range('2012-01-01',periods=100),columns=['a','b'])\n",
    "ts.index = pd.to_datetime(ts.index)"
   ]
  },
  {
   "cell_type": "code",
   "execution_count": 28,
   "metadata": {},
   "outputs": [],
   "source": [
    "tst = pd.Series([1,2],index=['c','d'])"
   ]
  },
  {
   "cell_type": "code",
   "execution_count": 39,
   "metadata": {},
   "outputs": [
    {
     "data": {
      "text/html": [
       "<div>\n",
       "<style scoped>\n",
       "    .dataframe tbody tr th:only-of-type {\n",
       "        vertical-align: middle;\n",
       "    }\n",
       "\n",
       "    .dataframe tbody tr th {\n",
       "        vertical-align: top;\n",
       "    }\n",
       "\n",
       "    .dataframe thead th {\n",
       "        text-align: right;\n",
       "    }\n",
       "</style>\n",
       "<table border=\"1\" class=\"dataframe\">\n",
       "  <thead>\n",
       "    <tr style=\"text-align: right;\">\n",
       "      <th></th>\n",
       "      <th>a</th>\n",
       "      <th>b</th>\n",
       "    </tr>\n",
       "  </thead>\n",
       "  <tbody>\n",
       "    <tr>\n",
       "      <th>2012-01-01 00:00:00</th>\n",
       "      <td>0.896708</td>\n",
       "      <td>0.648878</td>\n",
       "    </tr>\n",
       "    <tr>\n",
       "      <th>2012-01-02 00:00:00</th>\n",
       "      <td>0.963686</td>\n",
       "      <td>-0.960041</td>\n",
       "    </tr>\n",
       "    <tr>\n",
       "      <th>2012-01-03 00:00:00</th>\n",
       "      <td>1.284779</td>\n",
       "      <td>1.612584</td>\n",
       "    </tr>\n",
       "    <tr>\n",
       "      <th>2012-01-04 00:00:00</th>\n",
       "      <td>0.041779</td>\n",
       "      <td>0.498446</td>\n",
       "    </tr>\n",
       "    <tr>\n",
       "      <th>2012-01-05 00:00:00</th>\n",
       "      <td>1.269919</td>\n",
       "      <td>2.118618</td>\n",
       "    </tr>\n",
       "    <tr>\n",
       "      <th>...</th>\n",
       "      <td>...</td>\n",
       "      <td>...</td>\n",
       "    </tr>\n",
       "    <tr>\n",
       "      <th>2012-04-06 00:00:00</th>\n",
       "      <td>0.754359</td>\n",
       "      <td>-0.050046</td>\n",
       "    </tr>\n",
       "    <tr>\n",
       "      <th>2012-04-07 00:00:00</th>\n",
       "      <td>1.256091</td>\n",
       "      <td>-0.746323</td>\n",
       "    </tr>\n",
       "    <tr>\n",
       "      <th>2012-04-08 00:00:00</th>\n",
       "      <td>0.914075</td>\n",
       "      <td>-0.545854</td>\n",
       "    </tr>\n",
       "    <tr>\n",
       "      <th>2012-04-09 00:00:00</th>\n",
       "      <td>-0.758375</td>\n",
       "      <td>-0.404069</td>\n",
       "    </tr>\n",
       "    <tr>\n",
       "      <th>2012-04-29</th>\n",
       "      <td>2.000000</td>\n",
       "      <td>2.000000</td>\n",
       "    </tr>\n",
       "  </tbody>\n",
       "</table>\n",
       "<p>101 rows × 2 columns</p>\n",
       "</div>"
      ],
      "text/plain": [
       "                            a         b\n",
       "2012-01-01 00:00:00  0.896708  0.648878\n",
       "2012-01-02 00:00:00  0.963686 -0.960041\n",
       "2012-01-03 00:00:00  1.284779  1.612584\n",
       "2012-01-04 00:00:00  0.041779  0.498446\n",
       "2012-01-05 00:00:00  1.269919  2.118618\n",
       "...                       ...       ...\n",
       "2012-04-06 00:00:00  0.754359 -0.050046\n",
       "2012-04-07 00:00:00  1.256091 -0.746323\n",
       "2012-04-08 00:00:00  0.914075 -0.545854\n",
       "2012-04-09 00:00:00 -0.758375 -0.404069\n",
       "2012-04-29           2.000000  2.000000\n",
       "\n",
       "[101 rows x 2 columns]"
      ]
     },
     "execution_count": 39,
     "metadata": {},
     "output_type": "execute_result"
    }
   ],
   "source": [
    "ts"
   ]
  },
  {
   "cell_type": "code",
   "execution_count": 38,
   "metadata": {},
   "outputs": [],
   "source": [
    "ts.loc['2012-04-29'] = 2"
   ]
  },
  {
   "cell_type": "code",
   "execution_count": 34,
   "metadata": {},
   "outputs": [
    {
     "data": {
      "text/html": [
       "<div>\n",
       "<style scoped>\n",
       "    .dataframe tbody tr th:only-of-type {\n",
       "        vertical-align: middle;\n",
       "    }\n",
       "\n",
       "    .dataframe tbody tr th {\n",
       "        vertical-align: top;\n",
       "    }\n",
       "\n",
       "    .dataframe thead th {\n",
       "        text-align: right;\n",
       "    }\n",
       "</style>\n",
       "<table border=\"1\" class=\"dataframe\">\n",
       "  <thead>\n",
       "    <tr style=\"text-align: right;\">\n",
       "      <th></th>\n",
       "      <th>a</th>\n",
       "      <th>b</th>\n",
       "    </tr>\n",
       "  </thead>\n",
       "  <tbody>\n",
       "    <tr>\n",
       "      <th>2012-01-01 00:00:00</th>\n",
       "      <td>1.114081</td>\n",
       "      <td>0.889636</td>\n",
       "    </tr>\n",
       "    <tr>\n",
       "      <th>2012-01-02 00:00:00</th>\n",
       "      <td>-0.183550</td>\n",
       "      <td>0.035179</td>\n",
       "    </tr>\n",
       "    <tr>\n",
       "      <th>2012-01-03 00:00:00</th>\n",
       "      <td>-0.898701</td>\n",
       "      <td>0.044965</td>\n",
       "    </tr>\n",
       "    <tr>\n",
       "      <th>2012-01-04 00:00:00</th>\n",
       "      <td>1.655956</td>\n",
       "      <td>1.297376</td>\n",
       "    </tr>\n",
       "    <tr>\n",
       "      <th>2012-01-05 00:00:00</th>\n",
       "      <td>-1.115035</td>\n",
       "      <td>0.596782</td>\n",
       "    </tr>\n",
       "    <tr>\n",
       "      <th>...</th>\n",
       "      <td>...</td>\n",
       "      <td>...</td>\n",
       "    </tr>\n",
       "    <tr>\n",
       "      <th>2012-04-06 00:00:00</th>\n",
       "      <td>-0.188598</td>\n",
       "      <td>0.180878</td>\n",
       "    </tr>\n",
       "    <tr>\n",
       "      <th>2012-04-07 00:00:00</th>\n",
       "      <td>-0.802011</td>\n",
       "      <td>-0.660730</td>\n",
       "    </tr>\n",
       "    <tr>\n",
       "      <th>2012-04-08 00:00:00</th>\n",
       "      <td>-1.037512</td>\n",
       "      <td>-0.795208</td>\n",
       "    </tr>\n",
       "    <tr>\n",
       "      <th>2012-04-09 00:00:00</th>\n",
       "      <td>0.293972</td>\n",
       "      <td>-0.429644</td>\n",
       "    </tr>\n",
       "    <tr>\n",
       "      <th>2012-04-29</th>\n",
       "      <td>1.000000</td>\n",
       "      <td>2.000000</td>\n",
       "    </tr>\n",
       "  </tbody>\n",
       "</table>\n",
       "<p>101 rows × 2 columns</p>\n",
       "</div>"
      ],
      "text/plain": [
       "                            a         b\n",
       "2012-01-01 00:00:00  1.114081  0.889636\n",
       "2012-01-02 00:00:00 -0.183550  0.035179\n",
       "2012-01-03 00:00:00 -0.898701  0.044965\n",
       "2012-01-04 00:00:00  1.655956  1.297376\n",
       "2012-01-05 00:00:00 -1.115035  0.596782\n",
       "...                       ...       ...\n",
       "2012-04-06 00:00:00 -0.188598  0.180878\n",
       "2012-04-07 00:00:00 -0.802011 -0.660730\n",
       "2012-04-08 00:00:00 -1.037512 -0.795208\n",
       "2012-04-09 00:00:00  0.293972 -0.429644\n",
       "2012-04-29           1.000000  2.000000\n",
       "\n",
       "[101 rows x 2 columns]"
      ]
     },
     "execution_count": 34,
     "metadata": {},
     "output_type": "execute_result"
    }
   ],
   "source": [
    "ts"
   ]
  },
  {
   "cell_type": "code",
   "execution_count": 24,
   "metadata": {},
   "outputs": [],
   "source": [
    "ts.index = pd.to_datetime(ts.index)"
   ]
  },
  {
   "cell_type": "code",
   "execution_count": 21,
   "metadata": {},
   "outputs": [
    {
     "data": {
      "text/html": [
       "<div>\n",
       "<style scoped>\n",
       "    .dataframe tbody tr th:only-of-type {\n",
       "        vertical-align: middle;\n",
       "    }\n",
       "\n",
       "    .dataframe tbody tr th {\n",
       "        vertical-align: top;\n",
       "    }\n",
       "\n",
       "    .dataframe thead th {\n",
       "        text-align: right;\n",
       "    }\n",
       "</style>\n",
       "<table border=\"1\" class=\"dataframe\">\n",
       "  <thead>\n",
       "    <tr style=\"text-align: right;\">\n",
       "      <th></th>\n",
       "      <th>a</th>\n",
       "      <th>b</th>\n",
       "    </tr>\n",
       "  </thead>\n",
       "  <tbody>\n",
       "    <tr>\n",
       "      <th>2012-01-01</th>\n",
       "      <td>0.934199</td>\n",
       "      <td>-0.300038</td>\n",
       "    </tr>\n",
       "    <tr>\n",
       "      <th>2012-01-02</th>\n",
       "      <td>-1.619506</td>\n",
       "      <td>-1.574931</td>\n",
       "    </tr>\n",
       "    <tr>\n",
       "      <th>2012-01-03</th>\n",
       "      <td>-0.878070</td>\n",
       "      <td>-0.082129</td>\n",
       "    </tr>\n",
       "    <tr>\n",
       "      <th>2012-01-04</th>\n",
       "      <td>0.907877</td>\n",
       "      <td>0.084012</td>\n",
       "    </tr>\n",
       "    <tr>\n",
       "      <th>2012-01-05</th>\n",
       "      <td>-0.852138</td>\n",
       "      <td>-0.130735</td>\n",
       "    </tr>\n",
       "    <tr>\n",
       "      <th>...</th>\n",
       "      <td>...</td>\n",
       "      <td>...</td>\n",
       "    </tr>\n",
       "    <tr>\n",
       "      <th>2012-04-06</th>\n",
       "      <td>-1.322027</td>\n",
       "      <td>0.653778</td>\n",
       "    </tr>\n",
       "    <tr>\n",
       "      <th>2012-04-07</th>\n",
       "      <td>-0.565346</td>\n",
       "      <td>-1.032784</td>\n",
       "    </tr>\n",
       "    <tr>\n",
       "      <th>2012-04-08</th>\n",
       "      <td>1.739717</td>\n",
       "      <td>-0.041278</td>\n",
       "    </tr>\n",
       "    <tr>\n",
       "      <th>2012-04-09</th>\n",
       "      <td>-0.643471</td>\n",
       "      <td>-1.513467</td>\n",
       "    </tr>\n",
       "    <tr>\n",
       "      <th>2012-04-29</th>\n",
       "      <td>999.000000</td>\n",
       "      <td>1000.000000</td>\n",
       "    </tr>\n",
       "  </tbody>\n",
       "</table>\n",
       "<p>101 rows × 2 columns</p>\n",
       "</div>"
      ],
      "text/plain": [
       "                     a            b\n",
       "2012-01-01    0.934199    -0.300038\n",
       "2012-01-02   -1.619506    -1.574931\n",
       "2012-01-03   -0.878070    -0.082129\n",
       "2012-01-04    0.907877     0.084012\n",
       "2012-01-05   -0.852138    -0.130735\n",
       "...                ...          ...\n",
       "2012-04-06   -1.322027     0.653778\n",
       "2012-04-07   -0.565346    -1.032784\n",
       "2012-04-08    1.739717    -0.041278\n",
       "2012-04-09   -0.643471    -1.513467\n",
       "2012-04-29  999.000000  1000.000000\n",
       "\n",
       "[101 rows x 2 columns]"
      ]
     },
     "execution_count": 21,
     "metadata": {},
     "output_type": "execute_result"
    }
   ],
   "source": []
  },
  {
   "cell_type": "code",
   "execution_count": 48,
   "metadata": {},
   "outputs": [],
   "source": [
    "test = np.array([1,2,3])"
   ]
  },
  {
   "cell_type": "code",
   "execution_count": 50,
   "metadata": {},
   "outputs": [
    {
     "data": {
      "text/plain": [
       "[1, 4, 9]"
      ]
     },
     "execution_count": 50,
     "metadata": {},
     "output_type": "execute_result"
    }
   ],
   "source": [
    "list(map(lambda x:x**2,test))"
   ]
  },
  {
   "cell_type": "code",
   "execution_count": 51,
   "metadata": {},
   "outputs": [],
   "source": [
    "dt = pd.read_csv('https://raw.githubusercontent.com/nymath/financial_data/main/data/index/trade_date.csv',index_col=0)"
   ]
  },
  {
   "cell_type": "code",
   "execution_count": 55,
   "metadata": {},
   "outputs": [
    {
     "name": "stderr",
     "output_type": "stream",
     "text": [
      "/var/folders/31/rx49cg9n64z7rn2vk4yd8d740000gn/T/ipykernel_41661/2002654213.py:1: FutureWarning: The default dtype for empty Series will be 'object' instead of 'float64' in a future version. Specify a dtype explicitly to silence this warning.\n",
      "  type(pd.Series())\n"
     ]
    },
    {
     "data": {
      "text/plain": [
       "pandas.core.series.Series"
      ]
     },
     "execution_count": 55,
     "metadata": {},
     "output_type": "execute_result"
    }
   ],
   "source": [
    "type(pd.Series())"
   ]
  },
  {
   "cell_type": "code",
   "execution_count": 7,
   "metadata": {},
   "outputs": [],
   "source": [
    "from modules.trade.basics import *"
   ]
  },
  {
   "cell_type": "code",
   "execution_count": 10,
   "metadata": {},
   "outputs": [
    {
     "name": "stdout",
     "output_type": "stream",
     "text": [
      "[1, 2, 3]\n"
     ]
    }
   ],
   "source": [
    "compose(print,list)((1,2,3))"
   ]
  },
  {
   "cell_type": "code",
   "execution_count": 11,
   "metadata": {},
   "outputs": [],
   "source": [
    "from pynverse import inversefunc "
   ]
  },
  {
   "cell_type": "code",
   "execution_count": 13,
   "metadata": {},
   "outputs": [],
   "source": [
    "import numpy as np"
   ]
  },
  {
   "cell_type": "code",
   "execution_count": 24,
   "metadata": {},
   "outputs": [],
   "source": [
    "fi = inversefunc(np.exp,domain=(-np.inf,+np.inf),image=(0,+np.inf),open_domain=True)"
   ]
  },
  {
   "cell_type": "code",
   "execution_count": 5,
   "metadata": {},
   "outputs": [],
   "source": [
    "import trade.self_uqer as se"
   ]
  },
  {
   "cell_type": "code",
   "execution_count": null,
   "metadata": {},
   "outputs": [],
   "source": [
    "se."
   ]
  },
  {
   "cell_type": "code",
   "execution_count": 2,
   "metadata": {},
   "outputs": [
    {
     "data": {
      "text/plain": [
       "'0.1'"
      ]
     },
     "execution_count": 2,
     "metadata": {},
     "output_type": "execute_result"
    }
   ],
   "source": [
    "trade.__version__"
   ]
  },
  {
   "cell_type": "code",
   "execution_count": 2,
   "metadata": {},
   "outputs": [],
   "source": [
    "import numpy as np\n",
    "import pandas as pd"
   ]
  },
  {
   "cell_type": "code",
   "execution_count": 9,
   "metadata": {},
   "outputs": [],
   "source": [
    "lsa = pd.Series([1,2,3],index=['x0','x1','x2'],name='a')\n",
    "lsb = pd.Series([1,2,3],index=['x0','x1','x2'],name='b')\n",
    "pda = pd.DataFrame([1,2,3],index=['x0','x1','x2'],columns=['a'])"
   ]
  },
  {
   "cell_type": "code",
   "execution_count": 40,
   "metadata": {},
   "outputs": [
    {
     "data": {
      "text/plain": [
       "x0    1\n",
       "x1    2\n",
       "x2    3\n",
       "Name: a, dtype: int64"
      ]
     },
     "execution_count": 40,
     "metadata": {},
     "output_type": "execute_result"
    }
   ],
   "source": [
    "lsa"
   ]
  },
  {
   "cell_type": "code",
   "execution_count": 10,
   "metadata": {},
   "outputs": [
    {
     "data": {
      "text/plain": [
       "x0    1\n",
       "x1    2\n",
       "x2    3\n",
       "Name: a, dtype: int64"
      ]
     },
     "execution_count": 10,
     "metadata": {},
     "output_type": "execute_result"
    }
   ],
   "source": [
    "lsa"
   ]
  },
  {
   "cell_type": "code",
   "execution_count": 19,
   "metadata": {},
   "outputs": [
    {
     "data": {
      "text/plain": [
       "array([1, 2, 3])"
      ]
     },
     "execution_count": 19,
     "metadata": {},
     "output_type": "execute_result"
    }
   ],
   "source": [
    "lsa.values"
   ]
  },
  {
   "cell_type": "code",
   "execution_count": 20,
   "metadata": {},
   "outputs": [
    {
     "data": {
      "text/html": [
       "<div>\n",
       "<style scoped>\n",
       "    .dataframe tbody tr th:only-of-type {\n",
       "        vertical-align: middle;\n",
       "    }\n",
       "\n",
       "    .dataframe tbody tr th {\n",
       "        vertical-align: top;\n",
       "    }\n",
       "\n",
       "    .dataframe thead th {\n",
       "        text-align: right;\n",
       "    }\n",
       "</style>\n",
       "<table border=\"1\" class=\"dataframe\">\n",
       "  <thead>\n",
       "    <tr style=\"text-align: right;\">\n",
       "      <th></th>\n",
       "      <th>x0</th>\n",
       "      <th>x1</th>\n",
       "      <th>x2</th>\n",
       "    </tr>\n",
       "  </thead>\n",
       "  <tbody>\n",
       "    <tr>\n",
       "      <th>a</th>\n",
       "      <td>2</td>\n",
       "      <td>4</td>\n",
       "      <td>6</td>\n",
       "    </tr>\n",
       "  </tbody>\n",
       "</table>\n",
       "</div>"
      ],
      "text/plain": [
       "   x0  x1  x2\n",
       "a   2   4   6"
      ]
     },
     "execution_count": 20,
     "metadata": {},
     "output_type": "execute_result"
    }
   ],
   "source": [
    "pda.T + lsa.values"
   ]
  },
  {
   "cell_type": "code",
   "execution_count": 21,
   "metadata": {},
   "outputs": [],
   "source": [
    "arr1 = np.array([1,2,3])"
   ]
  },
  {
   "cell_type": "code",
   "execution_count": 22,
   "metadata": {},
   "outputs": [],
   "source": [
    "arrs = np.array([[1,2,3],[2,3,4],[3,4,5]])"
   ]
  },
  {
   "cell_type": "code",
   "execution_count": 27,
   "metadata": {},
   "outputs": [
    {
     "data": {
      "text/plain": [
       "array([[2, 3, 4],\n",
       "       [3, 4, 5],\n",
       "       [4, 5, 6]])"
      ]
     },
     "execution_count": 27,
     "metadata": {},
     "output_type": "execute_result"
    }
   ],
   "source": [
    "arrs[:,0].reshape(-1,1) + arr1 # "
   ]
  },
  {
   "cell_type": "code",
   "execution_count": 15,
   "metadata": {},
   "outputs": [],
   "source": [
    "import os\n",
    "import pickle\n",
    "import pandas as pd\n",
    "import json"
   ]
  },
  {
   "cell_type": "code",
   "execution_count": 53,
   "metadata": {},
   "outputs": [],
   "source": [
    "def get_data_index_components(tscode='000300.XSHG', current_date=None) -> list:\n",
    "    if not os.path.exists('./data'):\n",
    "        os.mkdir('./data')\n",
    "    if not os.path.exists('./data/index_components'):\n",
    "        os.mkdir('./data/index_components')\n",
    "    try:\n",
    "        res = pd.read_csv(f'./data/index_components/{tscode}.csv',index_col=0)\n",
    "        res.index = pd.to_datetime(res.index)\n",
    "        truetime = res.index.asof(f'{current_date}')\n",
    "        print(truetime,current_date)\n",
    "        return list(res.loc[truetime])\n",
    "    except:\n",
    "        print('本地数据不存在, 尝试下载')\n",
    "        res = pd.read_csv(f'https://raw.githubusercontent.com/nymath/financial_data/main/data/index_components/{tscode}.csv',index_col=0,encoding='utf8')\n",
    "        res.index = pd.to_datetime(res.index)\n",
    "        print('下载成功')\n",
    "        res.index = pd.to_datetime(res.index)\n",
    "        res.to_csv(f'./data/index_components/{tscode}.csv',encoding='utf8')\n",
    "        print('保存成功')\n",
    "        truetime = res.index.asof(f'{current_date}')\n",
    "        print(truetime,current_date)\n",
    "\n",
    "        return list(res.loc[current_date])"
   ]
  },
  {
   "cell_type": "code",
   "execution_count": 22,
   "metadata": {},
   "outputs": [
    {
     "ename": "ValueError",
     "evalue": "All arrays must be of the same length",
     "output_type": "error",
     "traceback": [
      "\u001b[0;31m---------------------------------------------------------------------------\u001b[0m",
      "\u001b[0;31mValueError\u001b[0m                                Traceback (most recent call last)",
      "\u001b[0;32m/var/folders/31/rx49cg9n64z7rn2vk4yd8d740000gn/T/ipykernel_82520/985679161.py\u001b[0m in \u001b[0;36m<module>\u001b[0;34m\u001b[0m\n\u001b[0;32m----> 1\u001b[0;31m \u001b[0mres\u001b[0m \u001b[0;34m=\u001b[0m \u001b[0mpd\u001b[0m\u001b[0;34m.\u001b[0m\u001b[0mread_json\u001b[0m\u001b[0;34m(\u001b[0m\u001b[0;34mf'https://raw.githubusercontent.com/nymath/financial_data/main/data/index_components/000300.XSHG.json'\u001b[0m\u001b[0;34m)\u001b[0m\u001b[0;34m.\u001b[0m\u001b[0mT\u001b[0m\u001b[0;34m\u001b[0m\u001b[0;34m\u001b[0m\u001b[0m\n\u001b[0m",
      "\u001b[0;32m~/opt/anaconda3/lib/python3.9/site-packages/pandas/util/_decorators.py\u001b[0m in \u001b[0;36mwrapper\u001b[0;34m(*args, **kwargs)\u001b[0m\n\u001b[1;32m    205\u001b[0m                 \u001b[0;32melse\u001b[0m\u001b[0;34m:\u001b[0m\u001b[0;34m\u001b[0m\u001b[0;34m\u001b[0m\u001b[0m\n\u001b[1;32m    206\u001b[0m                     \u001b[0mkwargs\u001b[0m\u001b[0;34m[\u001b[0m\u001b[0mnew_arg_name\u001b[0m\u001b[0;34m]\u001b[0m \u001b[0;34m=\u001b[0m \u001b[0mnew_arg_value\u001b[0m\u001b[0;34m\u001b[0m\u001b[0;34m\u001b[0m\u001b[0m\n\u001b[0;32m--> 207\u001b[0;31m             \u001b[0;32mreturn\u001b[0m \u001b[0mfunc\u001b[0m\u001b[0;34m(\u001b[0m\u001b[0;34m*\u001b[0m\u001b[0margs\u001b[0m\u001b[0;34m,\u001b[0m \u001b[0;34m**\u001b[0m\u001b[0mkwargs\u001b[0m\u001b[0;34m)\u001b[0m\u001b[0;34m\u001b[0m\u001b[0;34m\u001b[0m\u001b[0m\n\u001b[0m\u001b[1;32m    208\u001b[0m \u001b[0;34m\u001b[0m\u001b[0m\n\u001b[1;32m    209\u001b[0m         \u001b[0;32mreturn\u001b[0m \u001b[0mcast\u001b[0m\u001b[0;34m(\u001b[0m\u001b[0mF\u001b[0m\u001b[0;34m,\u001b[0m \u001b[0mwrapper\u001b[0m\u001b[0;34m)\u001b[0m\u001b[0;34m\u001b[0m\u001b[0;34m\u001b[0m\u001b[0m\n",
      "\u001b[0;32m~/opt/anaconda3/lib/python3.9/site-packages/pandas/util/_decorators.py\u001b[0m in \u001b[0;36mwrapper\u001b[0;34m(*args, **kwargs)\u001b[0m\n\u001b[1;32m    309\u001b[0m                     \u001b[0mstacklevel\u001b[0m\u001b[0;34m=\u001b[0m\u001b[0mstacklevel\u001b[0m\u001b[0;34m,\u001b[0m\u001b[0;34m\u001b[0m\u001b[0;34m\u001b[0m\u001b[0m\n\u001b[1;32m    310\u001b[0m                 )\n\u001b[0;32m--> 311\u001b[0;31m             \u001b[0;32mreturn\u001b[0m \u001b[0mfunc\u001b[0m\u001b[0;34m(\u001b[0m\u001b[0;34m*\u001b[0m\u001b[0margs\u001b[0m\u001b[0;34m,\u001b[0m \u001b[0;34m**\u001b[0m\u001b[0mkwargs\u001b[0m\u001b[0;34m)\u001b[0m\u001b[0;34m\u001b[0m\u001b[0;34m\u001b[0m\u001b[0m\n\u001b[0m\u001b[1;32m    312\u001b[0m \u001b[0;34m\u001b[0m\u001b[0m\n\u001b[1;32m    313\u001b[0m         \u001b[0;32mreturn\u001b[0m \u001b[0mwrapper\u001b[0m\u001b[0;34m\u001b[0m\u001b[0;34m\u001b[0m\u001b[0m\n",
      "\u001b[0;32m~/opt/anaconda3/lib/python3.9/site-packages/pandas/io/json/_json.py\u001b[0m in \u001b[0;36mread_json\u001b[0;34m(path_or_buf, orient, typ, dtype, convert_axes, convert_dates, keep_default_dates, numpy, precise_float, date_unit, encoding, encoding_errors, lines, chunksize, compression, nrows, storage_options)\u001b[0m\n\u001b[1;32m    610\u001b[0m \u001b[0;34m\u001b[0m\u001b[0m\n\u001b[1;32m    611\u001b[0m     \u001b[0;32mwith\u001b[0m \u001b[0mjson_reader\u001b[0m\u001b[0;34m:\u001b[0m\u001b[0;34m\u001b[0m\u001b[0;34m\u001b[0m\u001b[0m\n\u001b[0;32m--> 612\u001b[0;31m         \u001b[0;32mreturn\u001b[0m \u001b[0mjson_reader\u001b[0m\u001b[0;34m.\u001b[0m\u001b[0mread\u001b[0m\u001b[0;34m(\u001b[0m\u001b[0;34m)\u001b[0m\u001b[0;34m\u001b[0m\u001b[0;34m\u001b[0m\u001b[0m\n\u001b[0m\u001b[1;32m    613\u001b[0m \u001b[0;34m\u001b[0m\u001b[0m\n\u001b[1;32m    614\u001b[0m \u001b[0;34m\u001b[0m\u001b[0m\n",
      "\u001b[0;32m~/opt/anaconda3/lib/python3.9/site-packages/pandas/io/json/_json.py\u001b[0m in \u001b[0;36mread\u001b[0;34m(self)\u001b[0m\n\u001b[1;32m    744\u001b[0m                 \u001b[0mobj\u001b[0m \u001b[0;34m=\u001b[0m \u001b[0mself\u001b[0m\u001b[0;34m.\u001b[0m\u001b[0m_get_object_parser\u001b[0m\u001b[0;34m(\u001b[0m\u001b[0mself\u001b[0m\u001b[0;34m.\u001b[0m\u001b[0m_combine_lines\u001b[0m\u001b[0;34m(\u001b[0m\u001b[0mdata_lines\u001b[0m\u001b[0;34m)\u001b[0m\u001b[0;34m)\u001b[0m\u001b[0;34m\u001b[0m\u001b[0;34m\u001b[0m\u001b[0m\n\u001b[1;32m    745\u001b[0m         \u001b[0;32melse\u001b[0m\u001b[0;34m:\u001b[0m\u001b[0;34m\u001b[0m\u001b[0;34m\u001b[0m\u001b[0m\n\u001b[0;32m--> 746\u001b[0;31m             \u001b[0mobj\u001b[0m \u001b[0;34m=\u001b[0m \u001b[0mself\u001b[0m\u001b[0;34m.\u001b[0m\u001b[0m_get_object_parser\u001b[0m\u001b[0;34m(\u001b[0m\u001b[0mself\u001b[0m\u001b[0;34m.\u001b[0m\u001b[0mdata\u001b[0m\u001b[0;34m)\u001b[0m\u001b[0;34m\u001b[0m\u001b[0;34m\u001b[0m\u001b[0m\n\u001b[0m\u001b[1;32m    747\u001b[0m         \u001b[0mself\u001b[0m\u001b[0;34m.\u001b[0m\u001b[0mclose\u001b[0m\u001b[0;34m(\u001b[0m\u001b[0;34m)\u001b[0m\u001b[0;34m\u001b[0m\u001b[0;34m\u001b[0m\u001b[0m\n\u001b[1;32m    748\u001b[0m         \u001b[0;32mreturn\u001b[0m \u001b[0mobj\u001b[0m\u001b[0;34m\u001b[0m\u001b[0;34m\u001b[0m\u001b[0m\n",
      "\u001b[0;32m~/opt/anaconda3/lib/python3.9/site-packages/pandas/io/json/_json.py\u001b[0m in \u001b[0;36m_get_object_parser\u001b[0;34m(self, json)\u001b[0m\n\u001b[1;32m    766\u001b[0m         \u001b[0mobj\u001b[0m \u001b[0;34m=\u001b[0m \u001b[0;32mNone\u001b[0m\u001b[0;34m\u001b[0m\u001b[0;34m\u001b[0m\u001b[0m\n\u001b[1;32m    767\u001b[0m         \u001b[0;32mif\u001b[0m \u001b[0mtyp\u001b[0m \u001b[0;34m==\u001b[0m \u001b[0;34m\"frame\"\u001b[0m\u001b[0;34m:\u001b[0m\u001b[0;34m\u001b[0m\u001b[0;34m\u001b[0m\u001b[0m\n\u001b[0;32m--> 768\u001b[0;31m             \u001b[0mobj\u001b[0m \u001b[0;34m=\u001b[0m \u001b[0mFrameParser\u001b[0m\u001b[0;34m(\u001b[0m\u001b[0mjson\u001b[0m\u001b[0;34m,\u001b[0m \u001b[0;34m**\u001b[0m\u001b[0mkwargs\u001b[0m\u001b[0;34m)\u001b[0m\u001b[0;34m.\u001b[0m\u001b[0mparse\u001b[0m\u001b[0;34m(\u001b[0m\u001b[0;34m)\u001b[0m\u001b[0;34m\u001b[0m\u001b[0;34m\u001b[0m\u001b[0m\n\u001b[0m\u001b[1;32m    769\u001b[0m \u001b[0;34m\u001b[0m\u001b[0m\n\u001b[1;32m    770\u001b[0m         \u001b[0;32mif\u001b[0m \u001b[0mtyp\u001b[0m \u001b[0;34m==\u001b[0m \u001b[0;34m\"series\"\u001b[0m \u001b[0;32mor\u001b[0m \u001b[0mobj\u001b[0m \u001b[0;32mis\u001b[0m \u001b[0;32mNone\u001b[0m\u001b[0;34m:\u001b[0m\u001b[0;34m\u001b[0m\u001b[0;34m\u001b[0m\u001b[0m\n",
      "\u001b[0;32m~/opt/anaconda3/lib/python3.9/site-packages/pandas/io/json/_json.py\u001b[0m in \u001b[0;36mparse\u001b[0;34m(self)\u001b[0m\n\u001b[1;32m    878\u001b[0m             \u001b[0mself\u001b[0m\u001b[0;34m.\u001b[0m\u001b[0m_parse_numpy\u001b[0m\u001b[0;34m(\u001b[0m\u001b[0;34m)\u001b[0m\u001b[0;34m\u001b[0m\u001b[0;34m\u001b[0m\u001b[0m\n\u001b[1;32m    879\u001b[0m         \u001b[0;32melse\u001b[0m\u001b[0;34m:\u001b[0m\u001b[0;34m\u001b[0m\u001b[0;34m\u001b[0m\u001b[0m\n\u001b[0;32m--> 880\u001b[0;31m             \u001b[0mself\u001b[0m\u001b[0;34m.\u001b[0m\u001b[0m_parse_no_numpy\u001b[0m\u001b[0;34m(\u001b[0m\u001b[0;34m)\u001b[0m\u001b[0;34m\u001b[0m\u001b[0;34m\u001b[0m\u001b[0m\n\u001b[0m\u001b[1;32m    881\u001b[0m \u001b[0;34m\u001b[0m\u001b[0m\n\u001b[1;32m    882\u001b[0m         \u001b[0;32mif\u001b[0m \u001b[0mself\u001b[0m\u001b[0;34m.\u001b[0m\u001b[0mobj\u001b[0m \u001b[0;32mis\u001b[0m \u001b[0;32mNone\u001b[0m\u001b[0;34m:\u001b[0m\u001b[0;34m\u001b[0m\u001b[0;34m\u001b[0m\u001b[0m\n",
      "\u001b[0;32m~/opt/anaconda3/lib/python3.9/site-packages/pandas/io/json/_json.py\u001b[0m in \u001b[0;36m_parse_no_numpy\u001b[0;34m(self)\u001b[0m\n\u001b[1;32m   1130\u001b[0m \u001b[0;34m\u001b[0m\u001b[0m\n\u001b[1;32m   1131\u001b[0m         \u001b[0;32mif\u001b[0m \u001b[0morient\u001b[0m \u001b[0;34m==\u001b[0m \u001b[0;34m\"columns\"\u001b[0m\u001b[0;34m:\u001b[0m\u001b[0;34m\u001b[0m\u001b[0;34m\u001b[0m\u001b[0m\n\u001b[0;32m-> 1132\u001b[0;31m             self.obj = DataFrame(\n\u001b[0m\u001b[1;32m   1133\u001b[0m                 \u001b[0mloads\u001b[0m\u001b[0;34m(\u001b[0m\u001b[0mjson\u001b[0m\u001b[0;34m,\u001b[0m \u001b[0mprecise_float\u001b[0m\u001b[0;34m=\u001b[0m\u001b[0mself\u001b[0m\u001b[0;34m.\u001b[0m\u001b[0mprecise_float\u001b[0m\u001b[0;34m)\u001b[0m\u001b[0;34m,\u001b[0m \u001b[0mdtype\u001b[0m\u001b[0;34m=\u001b[0m\u001b[0;32mNone\u001b[0m\u001b[0;34m\u001b[0m\u001b[0;34m\u001b[0m\u001b[0m\n\u001b[1;32m   1134\u001b[0m             )\n",
      "\u001b[0;32m~/opt/anaconda3/lib/python3.9/site-packages/pandas/core/frame.py\u001b[0m in \u001b[0;36m__init__\u001b[0;34m(self, data, index, columns, dtype, copy)\u001b[0m\n\u001b[1;32m    634\u001b[0m         \u001b[0;32melif\u001b[0m \u001b[0misinstance\u001b[0m\u001b[0;34m(\u001b[0m\u001b[0mdata\u001b[0m\u001b[0;34m,\u001b[0m \u001b[0mdict\u001b[0m\u001b[0;34m)\u001b[0m\u001b[0;34m:\u001b[0m\u001b[0;34m\u001b[0m\u001b[0;34m\u001b[0m\u001b[0m\n\u001b[1;32m    635\u001b[0m             \u001b[0;31m# GH#38939 de facto copy defaults to False only in non-dict cases\u001b[0m\u001b[0;34m\u001b[0m\u001b[0;34m\u001b[0m\u001b[0m\n\u001b[0;32m--> 636\u001b[0;31m             \u001b[0mmgr\u001b[0m \u001b[0;34m=\u001b[0m \u001b[0mdict_to_mgr\u001b[0m\u001b[0;34m(\u001b[0m\u001b[0mdata\u001b[0m\u001b[0;34m,\u001b[0m \u001b[0mindex\u001b[0m\u001b[0;34m,\u001b[0m \u001b[0mcolumns\u001b[0m\u001b[0;34m,\u001b[0m \u001b[0mdtype\u001b[0m\u001b[0;34m=\u001b[0m\u001b[0mdtype\u001b[0m\u001b[0;34m,\u001b[0m \u001b[0mcopy\u001b[0m\u001b[0;34m=\u001b[0m\u001b[0mcopy\u001b[0m\u001b[0;34m,\u001b[0m \u001b[0mtyp\u001b[0m\u001b[0;34m=\u001b[0m\u001b[0mmanager\u001b[0m\u001b[0;34m)\u001b[0m\u001b[0;34m\u001b[0m\u001b[0;34m\u001b[0m\u001b[0m\n\u001b[0m\u001b[1;32m    637\u001b[0m         \u001b[0;32melif\u001b[0m \u001b[0misinstance\u001b[0m\u001b[0;34m(\u001b[0m\u001b[0mdata\u001b[0m\u001b[0;34m,\u001b[0m \u001b[0mma\u001b[0m\u001b[0;34m.\u001b[0m\u001b[0mMaskedArray\u001b[0m\u001b[0;34m)\u001b[0m\u001b[0;34m:\u001b[0m\u001b[0;34m\u001b[0m\u001b[0;34m\u001b[0m\u001b[0m\n\u001b[1;32m    638\u001b[0m             \u001b[0;32mimport\u001b[0m \u001b[0mnumpy\u001b[0m\u001b[0;34m.\u001b[0m\u001b[0mma\u001b[0m\u001b[0;34m.\u001b[0m\u001b[0mmrecords\u001b[0m \u001b[0;32mas\u001b[0m \u001b[0mmrecords\u001b[0m\u001b[0;34m\u001b[0m\u001b[0;34m\u001b[0m\u001b[0m\n",
      "\u001b[0;32m~/opt/anaconda3/lib/python3.9/site-packages/pandas/core/internals/construction.py\u001b[0m in \u001b[0;36mdict_to_mgr\u001b[0;34m(data, index, columns, dtype, typ, copy)\u001b[0m\n\u001b[1;32m    500\u001b[0m         \u001b[0;31m# TODO: can we get rid of the dt64tz special case above?\u001b[0m\u001b[0;34m\u001b[0m\u001b[0;34m\u001b[0m\u001b[0m\n\u001b[1;32m    501\u001b[0m \u001b[0;34m\u001b[0m\u001b[0m\n\u001b[0;32m--> 502\u001b[0;31m     \u001b[0;32mreturn\u001b[0m \u001b[0marrays_to_mgr\u001b[0m\u001b[0;34m(\u001b[0m\u001b[0marrays\u001b[0m\u001b[0;34m,\u001b[0m \u001b[0mcolumns\u001b[0m\u001b[0;34m,\u001b[0m \u001b[0mindex\u001b[0m\u001b[0;34m,\u001b[0m \u001b[0mdtype\u001b[0m\u001b[0;34m=\u001b[0m\u001b[0mdtype\u001b[0m\u001b[0;34m,\u001b[0m \u001b[0mtyp\u001b[0m\u001b[0;34m=\u001b[0m\u001b[0mtyp\u001b[0m\u001b[0;34m,\u001b[0m \u001b[0mconsolidate\u001b[0m\u001b[0;34m=\u001b[0m\u001b[0mcopy\u001b[0m\u001b[0;34m)\u001b[0m\u001b[0;34m\u001b[0m\u001b[0;34m\u001b[0m\u001b[0m\n\u001b[0m\u001b[1;32m    503\u001b[0m \u001b[0;34m\u001b[0m\u001b[0m\n\u001b[1;32m    504\u001b[0m \u001b[0;34m\u001b[0m\u001b[0m\n",
      "\u001b[0;32m~/opt/anaconda3/lib/python3.9/site-packages/pandas/core/internals/construction.py\u001b[0m in \u001b[0;36marrays_to_mgr\u001b[0;34m(arrays, columns, index, dtype, verify_integrity, typ, consolidate)\u001b[0m\n\u001b[1;32m    118\u001b[0m         \u001b[0;31m# figure out the index, if necessary\u001b[0m\u001b[0;34m\u001b[0m\u001b[0;34m\u001b[0m\u001b[0m\n\u001b[1;32m    119\u001b[0m         \u001b[0;32mif\u001b[0m \u001b[0mindex\u001b[0m \u001b[0;32mis\u001b[0m \u001b[0;32mNone\u001b[0m\u001b[0;34m:\u001b[0m\u001b[0;34m\u001b[0m\u001b[0;34m\u001b[0m\u001b[0m\n\u001b[0;32m--> 120\u001b[0;31m             \u001b[0mindex\u001b[0m \u001b[0;34m=\u001b[0m \u001b[0m_extract_index\u001b[0m\u001b[0;34m(\u001b[0m\u001b[0marrays\u001b[0m\u001b[0;34m)\u001b[0m\u001b[0;34m\u001b[0m\u001b[0;34m\u001b[0m\u001b[0m\n\u001b[0m\u001b[1;32m    121\u001b[0m         \u001b[0;32melse\u001b[0m\u001b[0;34m:\u001b[0m\u001b[0;34m\u001b[0m\u001b[0;34m\u001b[0m\u001b[0m\n\u001b[1;32m    122\u001b[0m             \u001b[0mindex\u001b[0m \u001b[0;34m=\u001b[0m \u001b[0mensure_index\u001b[0m\u001b[0;34m(\u001b[0m\u001b[0mindex\u001b[0m\u001b[0;34m)\u001b[0m\u001b[0;34m\u001b[0m\u001b[0;34m\u001b[0m\u001b[0m\n",
      "\u001b[0;32m~/opt/anaconda3/lib/python3.9/site-packages/pandas/core/internals/construction.py\u001b[0m in \u001b[0;36m_extract_index\u001b[0;34m(data)\u001b[0m\n\u001b[1;32m    672\u001b[0m             \u001b[0mlengths\u001b[0m \u001b[0;34m=\u001b[0m \u001b[0mlist\u001b[0m\u001b[0;34m(\u001b[0m\u001b[0mset\u001b[0m\u001b[0;34m(\u001b[0m\u001b[0mraw_lengths\u001b[0m\u001b[0;34m)\u001b[0m\u001b[0;34m)\u001b[0m\u001b[0;34m\u001b[0m\u001b[0;34m\u001b[0m\u001b[0m\n\u001b[1;32m    673\u001b[0m             \u001b[0;32mif\u001b[0m \u001b[0mlen\u001b[0m\u001b[0;34m(\u001b[0m\u001b[0mlengths\u001b[0m\u001b[0;34m)\u001b[0m \u001b[0;34m>\u001b[0m \u001b[0;36m1\u001b[0m\u001b[0;34m:\u001b[0m\u001b[0;34m\u001b[0m\u001b[0;34m\u001b[0m\u001b[0m\n\u001b[0;32m--> 674\u001b[0;31m                 \u001b[0;32mraise\u001b[0m \u001b[0mValueError\u001b[0m\u001b[0;34m(\u001b[0m\u001b[0;34m\"All arrays must be of the same length\"\u001b[0m\u001b[0;34m)\u001b[0m\u001b[0;34m\u001b[0m\u001b[0;34m\u001b[0m\u001b[0m\n\u001b[0m\u001b[1;32m    675\u001b[0m \u001b[0;34m\u001b[0m\u001b[0m\n\u001b[1;32m    676\u001b[0m             \u001b[0;32mif\u001b[0m \u001b[0mhave_dicts\u001b[0m\u001b[0;34m:\u001b[0m\u001b[0;34m\u001b[0m\u001b[0;34m\u001b[0m\u001b[0m\n",
      "\u001b[0;31mValueError\u001b[0m: All arrays must be of the same length"
     ]
    }
   ],
   "source": [
    "res = pd.read_json(f'https://raw.githubusercontent.com/nymath/financial_data/main/data/index_components/000300.XSHG.json').T"
   ]
  },
  {
   "cell_type": "code",
   "execution_count": 17,
   "metadata": {},
   "outputs": [
    {
     "name": "stdout",
     "output_type": "stream",
     "text": [
      "本地数据不存在, 尝试下载\n"
     ]
    },
    {
     "ename": "KeyboardInterrupt",
     "evalue": "",
     "output_type": "error",
     "traceback": [
      "\u001b[0;31m---------------------------------------------------------------------------\u001b[0m",
      "\u001b[0;31mValueError\u001b[0m                                Traceback (most recent call last)",
      "\u001b[0;32m/var/folders/31/rx49cg9n64z7rn2vk4yd8d740000gn/T/ipykernel_82520/2493206226.py\u001b[0m in \u001b[0;36mget_data_index_components\u001b[0;34m(tscode, current_date)\u001b[0m\n\u001b[1;32m      6\u001b[0m     \u001b[0;32mtry\u001b[0m\u001b[0;34m:\u001b[0m\u001b[0;34m\u001b[0m\u001b[0;34m\u001b[0m\u001b[0m\n\u001b[0;32m----> 7\u001b[0;31m         \u001b[0mres\u001b[0m \u001b[0;34m=\u001b[0m \u001b[0mpd\u001b[0m\u001b[0;34m.\u001b[0m\u001b[0mread_json\u001b[0m\u001b[0;34m(\u001b[0m\u001b[0;34mf'./data/index_components/{tscode}.json'\u001b[0m\u001b[0;34m)\u001b[0m\u001b[0;34m.\u001b[0m\u001b[0mT\u001b[0m\u001b[0;34m\u001b[0m\u001b[0;34m\u001b[0m\u001b[0m\n\u001b[0m\u001b[1;32m      8\u001b[0m         \u001b[0mres\u001b[0m\u001b[0;34m.\u001b[0m\u001b[0mindex\u001b[0m \u001b[0;34m=\u001b[0m \u001b[0mpd\u001b[0m\u001b[0;34m.\u001b[0m\u001b[0mto_datetime\u001b[0m\u001b[0;34m(\u001b[0m\u001b[0mres\u001b[0m\u001b[0;34m.\u001b[0m\u001b[0mindex\u001b[0m\u001b[0;34m)\u001b[0m\u001b[0;34m\u001b[0m\u001b[0;34m\u001b[0m\u001b[0m\n",
      "\u001b[0;32m~/opt/anaconda3/lib/python3.9/site-packages/pandas/util/_decorators.py\u001b[0m in \u001b[0;36mwrapper\u001b[0;34m(*args, **kwargs)\u001b[0m\n\u001b[1;32m    206\u001b[0m                     \u001b[0mkwargs\u001b[0m\u001b[0;34m[\u001b[0m\u001b[0mnew_arg_name\u001b[0m\u001b[0;34m]\u001b[0m \u001b[0;34m=\u001b[0m \u001b[0mnew_arg_value\u001b[0m\u001b[0;34m\u001b[0m\u001b[0;34m\u001b[0m\u001b[0m\n\u001b[0;32m--> 207\u001b[0;31m             \u001b[0;32mreturn\u001b[0m \u001b[0mfunc\u001b[0m\u001b[0;34m(\u001b[0m\u001b[0;34m*\u001b[0m\u001b[0margs\u001b[0m\u001b[0;34m,\u001b[0m \u001b[0;34m**\u001b[0m\u001b[0mkwargs\u001b[0m\u001b[0;34m)\u001b[0m\u001b[0;34m\u001b[0m\u001b[0;34m\u001b[0m\u001b[0m\n\u001b[0m\u001b[1;32m    208\u001b[0m \u001b[0;34m\u001b[0m\u001b[0m\n",
      "\u001b[0;32m~/opt/anaconda3/lib/python3.9/site-packages/pandas/util/_decorators.py\u001b[0m in \u001b[0;36mwrapper\u001b[0;34m(*args, **kwargs)\u001b[0m\n\u001b[1;32m    310\u001b[0m                 )\n\u001b[0;32m--> 311\u001b[0;31m             \u001b[0;32mreturn\u001b[0m \u001b[0mfunc\u001b[0m\u001b[0;34m(\u001b[0m\u001b[0;34m*\u001b[0m\u001b[0margs\u001b[0m\u001b[0;34m,\u001b[0m \u001b[0;34m**\u001b[0m\u001b[0mkwargs\u001b[0m\u001b[0;34m)\u001b[0m\u001b[0;34m\u001b[0m\u001b[0;34m\u001b[0m\u001b[0m\n\u001b[0m\u001b[1;32m    312\u001b[0m \u001b[0;34m\u001b[0m\u001b[0m\n",
      "\u001b[0;32m~/opt/anaconda3/lib/python3.9/site-packages/pandas/io/json/_json.py\u001b[0m in \u001b[0;36mread_json\u001b[0;34m(path_or_buf, orient, typ, dtype, convert_axes, convert_dates, keep_default_dates, numpy, precise_float, date_unit, encoding, encoding_errors, lines, chunksize, compression, nrows, storage_options)\u001b[0m\n\u001b[1;32m    611\u001b[0m     \u001b[0;32mwith\u001b[0m \u001b[0mjson_reader\u001b[0m\u001b[0;34m:\u001b[0m\u001b[0;34m\u001b[0m\u001b[0;34m\u001b[0m\u001b[0m\n\u001b[0;32m--> 612\u001b[0;31m         \u001b[0;32mreturn\u001b[0m \u001b[0mjson_reader\u001b[0m\u001b[0;34m.\u001b[0m\u001b[0mread\u001b[0m\u001b[0;34m(\u001b[0m\u001b[0;34m)\u001b[0m\u001b[0;34m\u001b[0m\u001b[0;34m\u001b[0m\u001b[0m\n\u001b[0m\u001b[1;32m    613\u001b[0m \u001b[0;34m\u001b[0m\u001b[0m\n",
      "\u001b[0;32m~/opt/anaconda3/lib/python3.9/site-packages/pandas/io/json/_json.py\u001b[0m in \u001b[0;36mread\u001b[0;34m(self)\u001b[0m\n\u001b[1;32m    745\u001b[0m         \u001b[0;32melse\u001b[0m\u001b[0;34m:\u001b[0m\u001b[0;34m\u001b[0m\u001b[0;34m\u001b[0m\u001b[0m\n\u001b[0;32m--> 746\u001b[0;31m             \u001b[0mobj\u001b[0m \u001b[0;34m=\u001b[0m \u001b[0mself\u001b[0m\u001b[0;34m.\u001b[0m\u001b[0m_get_object_parser\u001b[0m\u001b[0;34m(\u001b[0m\u001b[0mself\u001b[0m\u001b[0;34m.\u001b[0m\u001b[0mdata\u001b[0m\u001b[0;34m)\u001b[0m\u001b[0;34m\u001b[0m\u001b[0;34m\u001b[0m\u001b[0m\n\u001b[0m\u001b[1;32m    747\u001b[0m         \u001b[0mself\u001b[0m\u001b[0;34m.\u001b[0m\u001b[0mclose\u001b[0m\u001b[0;34m(\u001b[0m\u001b[0;34m)\u001b[0m\u001b[0;34m\u001b[0m\u001b[0;34m\u001b[0m\u001b[0m\n",
      "\u001b[0;32m~/opt/anaconda3/lib/python3.9/site-packages/pandas/io/json/_json.py\u001b[0m in \u001b[0;36m_get_object_parser\u001b[0;34m(self, json)\u001b[0m\n\u001b[1;32m    767\u001b[0m         \u001b[0;32mif\u001b[0m \u001b[0mtyp\u001b[0m \u001b[0;34m==\u001b[0m \u001b[0;34m\"frame\"\u001b[0m\u001b[0;34m:\u001b[0m\u001b[0;34m\u001b[0m\u001b[0;34m\u001b[0m\u001b[0m\n\u001b[0;32m--> 768\u001b[0;31m             \u001b[0mobj\u001b[0m \u001b[0;34m=\u001b[0m \u001b[0mFrameParser\u001b[0m\u001b[0;34m(\u001b[0m\u001b[0mjson\u001b[0m\u001b[0;34m,\u001b[0m \u001b[0;34m**\u001b[0m\u001b[0mkwargs\u001b[0m\u001b[0;34m)\u001b[0m\u001b[0;34m.\u001b[0m\u001b[0mparse\u001b[0m\u001b[0;34m(\u001b[0m\u001b[0;34m)\u001b[0m\u001b[0;34m\u001b[0m\u001b[0;34m\u001b[0m\u001b[0m\n\u001b[0m\u001b[1;32m    769\u001b[0m \u001b[0;34m\u001b[0m\u001b[0m\n",
      "\u001b[0;32m~/opt/anaconda3/lib/python3.9/site-packages/pandas/io/json/_json.py\u001b[0m in \u001b[0;36mparse\u001b[0;34m(self)\u001b[0m\n\u001b[1;32m    879\u001b[0m         \u001b[0;32melse\u001b[0m\u001b[0;34m:\u001b[0m\u001b[0;34m\u001b[0m\u001b[0;34m\u001b[0m\u001b[0m\n\u001b[0;32m--> 880\u001b[0;31m             \u001b[0mself\u001b[0m\u001b[0;34m.\u001b[0m\u001b[0m_parse_no_numpy\u001b[0m\u001b[0;34m(\u001b[0m\u001b[0;34m)\u001b[0m\u001b[0;34m\u001b[0m\u001b[0;34m\u001b[0m\u001b[0m\n\u001b[0m\u001b[1;32m    881\u001b[0m \u001b[0;34m\u001b[0m\u001b[0m\n",
      "\u001b[0;32m~/opt/anaconda3/lib/python3.9/site-packages/pandas/io/json/_json.py\u001b[0m in \u001b[0;36m_parse_no_numpy\u001b[0;34m(self)\u001b[0m\n\u001b[1;32m   1132\u001b[0m             self.obj = DataFrame(\n\u001b[0;32m-> 1133\u001b[0;31m                 \u001b[0mloads\u001b[0m\u001b[0;34m(\u001b[0m\u001b[0mjson\u001b[0m\u001b[0;34m,\u001b[0m \u001b[0mprecise_float\u001b[0m\u001b[0;34m=\u001b[0m\u001b[0mself\u001b[0m\u001b[0;34m.\u001b[0m\u001b[0mprecise_float\u001b[0m\u001b[0;34m)\u001b[0m\u001b[0;34m,\u001b[0m \u001b[0mdtype\u001b[0m\u001b[0;34m=\u001b[0m\u001b[0;32mNone\u001b[0m\u001b[0;34m\u001b[0m\u001b[0;34m\u001b[0m\u001b[0m\n\u001b[0m\u001b[1;32m   1134\u001b[0m             )\n",
      "\u001b[0;31mValueError\u001b[0m: Expected object or value",
      "\nDuring handling of the above exception, another exception occurred:\n",
      "\u001b[0;31mKeyboardInterrupt\u001b[0m                         Traceback (most recent call last)",
      "\u001b[0;32m/var/folders/31/rx49cg9n64z7rn2vk4yd8d740000gn/T/ipykernel_82520/419993380.py\u001b[0m in \u001b[0;36m<module>\u001b[0;34m\u001b[0m\n\u001b[0;32m----> 1\u001b[0;31m \u001b[0mget_data_index_components\u001b[0m\u001b[0;34m(\u001b[0m\u001b[0;34m'000300.XSHG'\u001b[0m\u001b[0;34m,\u001b[0m \u001b[0mcurrent_date\u001b[0m\u001b[0;34m=\u001b[0m\u001b[0;34m'20221227'\u001b[0m\u001b[0;34m)\u001b[0m\u001b[0;34m\u001b[0m\u001b[0;34m\u001b[0m\u001b[0m\n\u001b[0m",
      "\u001b[0;32m/var/folders/31/rx49cg9n64z7rn2vk4yd8d740000gn/T/ipykernel_82520/2493206226.py\u001b[0m in \u001b[0;36mget_data_index_components\u001b[0;34m(tscode, current_date)\u001b[0m\n\u001b[1;32m     10\u001b[0m     \u001b[0;32mexcept\u001b[0m\u001b[0;34m:\u001b[0m\u001b[0;34m\u001b[0m\u001b[0;34m\u001b[0m\u001b[0m\n\u001b[1;32m     11\u001b[0m         \u001b[0mprint\u001b[0m\u001b[0;34m(\u001b[0m\u001b[0;34m'本地数据不存在, 尝试下载'\u001b[0m\u001b[0;34m)\u001b[0m\u001b[0;34m\u001b[0m\u001b[0;34m\u001b[0m\u001b[0m\n\u001b[0;32m---> 12\u001b[0;31m         \u001b[0mres\u001b[0m \u001b[0;34m=\u001b[0m \u001b[0mpd\u001b[0m\u001b[0;34m.\u001b[0m\u001b[0mread_json\u001b[0m\u001b[0;34m(\u001b[0m\u001b[0;34m'https://raw.githubusercontent.com/nymath/financial_data/main/data/index_components/000905.XSHG.json'\u001b[0m\u001b[0;34m)\u001b[0m\u001b[0;34m.\u001b[0m\u001b[0mT\u001b[0m\u001b[0;34m\u001b[0m\u001b[0;34m\u001b[0m\u001b[0m\n\u001b[0m\u001b[1;32m     13\u001b[0m         \u001b[0mprint\u001b[0m\u001b[0;34m(\u001b[0m\u001b[0;34m'下载成功'\u001b[0m\u001b[0;34m)\u001b[0m\u001b[0;34m\u001b[0m\u001b[0;34m\u001b[0m\u001b[0m\n\u001b[1;32m     14\u001b[0m         \u001b[0;32mwith\u001b[0m \u001b[0mopen\u001b[0m\u001b[0;34m(\u001b[0m\u001b[0;34mf'./data/index_components/{tscode}.json'\u001b[0m\u001b[0;34m,\u001b[0m \u001b[0;34m'w'\u001b[0m\u001b[0;34m)\u001b[0m \u001b[0;32mas\u001b[0m \u001b[0mf\u001b[0m\u001b[0;34m:\u001b[0m\u001b[0;34m\u001b[0m\u001b[0;34m\u001b[0m\u001b[0m\n",
      "\u001b[0;32m~/opt/anaconda3/lib/python3.9/site-packages/pandas/util/_decorators.py\u001b[0m in \u001b[0;36mwrapper\u001b[0;34m(*args, **kwargs)\u001b[0m\n\u001b[1;32m    205\u001b[0m                 \u001b[0;32melse\u001b[0m\u001b[0;34m:\u001b[0m\u001b[0;34m\u001b[0m\u001b[0;34m\u001b[0m\u001b[0m\n\u001b[1;32m    206\u001b[0m                     \u001b[0mkwargs\u001b[0m\u001b[0;34m[\u001b[0m\u001b[0mnew_arg_name\u001b[0m\u001b[0;34m]\u001b[0m \u001b[0;34m=\u001b[0m \u001b[0mnew_arg_value\u001b[0m\u001b[0;34m\u001b[0m\u001b[0;34m\u001b[0m\u001b[0m\n\u001b[0;32m--> 207\u001b[0;31m             \u001b[0;32mreturn\u001b[0m \u001b[0mfunc\u001b[0m\u001b[0;34m(\u001b[0m\u001b[0;34m*\u001b[0m\u001b[0margs\u001b[0m\u001b[0;34m,\u001b[0m \u001b[0;34m**\u001b[0m\u001b[0mkwargs\u001b[0m\u001b[0;34m)\u001b[0m\u001b[0;34m\u001b[0m\u001b[0;34m\u001b[0m\u001b[0m\n\u001b[0m\u001b[1;32m    208\u001b[0m \u001b[0;34m\u001b[0m\u001b[0m\n\u001b[1;32m    209\u001b[0m         \u001b[0;32mreturn\u001b[0m \u001b[0mcast\u001b[0m\u001b[0;34m(\u001b[0m\u001b[0mF\u001b[0m\u001b[0;34m,\u001b[0m \u001b[0mwrapper\u001b[0m\u001b[0;34m)\u001b[0m\u001b[0;34m\u001b[0m\u001b[0;34m\u001b[0m\u001b[0m\n",
      "\u001b[0;32m~/opt/anaconda3/lib/python3.9/site-packages/pandas/util/_decorators.py\u001b[0m in \u001b[0;36mwrapper\u001b[0;34m(*args, **kwargs)\u001b[0m\n\u001b[1;32m    309\u001b[0m                     \u001b[0mstacklevel\u001b[0m\u001b[0;34m=\u001b[0m\u001b[0mstacklevel\u001b[0m\u001b[0;34m,\u001b[0m\u001b[0;34m\u001b[0m\u001b[0;34m\u001b[0m\u001b[0m\n\u001b[1;32m    310\u001b[0m                 )\n\u001b[0;32m--> 311\u001b[0;31m             \u001b[0;32mreturn\u001b[0m \u001b[0mfunc\u001b[0m\u001b[0;34m(\u001b[0m\u001b[0;34m*\u001b[0m\u001b[0margs\u001b[0m\u001b[0;34m,\u001b[0m \u001b[0;34m**\u001b[0m\u001b[0mkwargs\u001b[0m\u001b[0;34m)\u001b[0m\u001b[0;34m\u001b[0m\u001b[0;34m\u001b[0m\u001b[0m\n\u001b[0m\u001b[1;32m    312\u001b[0m \u001b[0;34m\u001b[0m\u001b[0m\n\u001b[1;32m    313\u001b[0m         \u001b[0;32mreturn\u001b[0m \u001b[0mwrapper\u001b[0m\u001b[0;34m\u001b[0m\u001b[0;34m\u001b[0m\u001b[0m\n",
      "\u001b[0;32m~/opt/anaconda3/lib/python3.9/site-packages/pandas/io/json/_json.py\u001b[0m in \u001b[0;36mread_json\u001b[0;34m(path_or_buf, orient, typ, dtype, convert_axes, convert_dates, keep_default_dates, numpy, precise_float, date_unit, encoding, encoding_errors, lines, chunksize, compression, nrows, storage_options)\u001b[0m\n\u001b[1;32m    586\u001b[0m         \u001b[0mconvert_axes\u001b[0m \u001b[0;34m=\u001b[0m \u001b[0;32mTrue\u001b[0m\u001b[0;34m\u001b[0m\u001b[0;34m\u001b[0m\u001b[0m\n\u001b[1;32m    587\u001b[0m \u001b[0;34m\u001b[0m\u001b[0m\n\u001b[0;32m--> 588\u001b[0;31m     json_reader = JsonReader(\n\u001b[0m\u001b[1;32m    589\u001b[0m         \u001b[0mpath_or_buf\u001b[0m\u001b[0;34m,\u001b[0m\u001b[0;34m\u001b[0m\u001b[0;34m\u001b[0m\u001b[0m\n\u001b[1;32m    590\u001b[0m         \u001b[0morient\u001b[0m\u001b[0;34m=\u001b[0m\u001b[0morient\u001b[0m\u001b[0;34m,\u001b[0m\u001b[0;34m\u001b[0m\u001b[0;34m\u001b[0m\u001b[0m\n",
      "\u001b[0;32m~/opt/anaconda3/lib/python3.9/site-packages/pandas/io/json/_json.py\u001b[0m in \u001b[0;36m__init__\u001b[0;34m(self, filepath_or_buffer, orient, typ, dtype, convert_axes, convert_dates, keep_default_dates, numpy, precise_float, date_unit, encoding, lines, chunksize, compression, nrows, storage_options, encoding_errors)\u001b[0m\n\u001b[1;32m    671\u001b[0m                 \u001b[0;32mraise\u001b[0m \u001b[0mValueError\u001b[0m\u001b[0;34m(\u001b[0m\u001b[0;34m\"nrows can only be passed if lines=True\"\u001b[0m\u001b[0;34m)\u001b[0m\u001b[0;34m\u001b[0m\u001b[0;34m\u001b[0m\u001b[0m\n\u001b[1;32m    672\u001b[0m \u001b[0;34m\u001b[0m\u001b[0m\n\u001b[0;32m--> 673\u001b[0;31m         \u001b[0mdata\u001b[0m \u001b[0;34m=\u001b[0m \u001b[0mself\u001b[0m\u001b[0;34m.\u001b[0m\u001b[0m_get_data_from_filepath\u001b[0m\u001b[0;34m(\u001b[0m\u001b[0mfilepath_or_buffer\u001b[0m\u001b[0;34m)\u001b[0m\u001b[0;34m\u001b[0m\u001b[0;34m\u001b[0m\u001b[0m\n\u001b[0m\u001b[1;32m    674\u001b[0m         \u001b[0mself\u001b[0m\u001b[0;34m.\u001b[0m\u001b[0mdata\u001b[0m \u001b[0;34m=\u001b[0m \u001b[0mself\u001b[0m\u001b[0;34m.\u001b[0m\u001b[0m_preprocess_data\u001b[0m\u001b[0;34m(\u001b[0m\u001b[0mdata\u001b[0m\u001b[0;34m)\u001b[0m\u001b[0;34m\u001b[0m\u001b[0;34m\u001b[0m\u001b[0m\n\u001b[1;32m    675\u001b[0m \u001b[0;34m\u001b[0m\u001b[0m\n",
      "\u001b[0;32m~/opt/anaconda3/lib/python3.9/site-packages/pandas/io/json/_json.py\u001b[0m in \u001b[0;36m_get_data_from_filepath\u001b[0;34m(self, filepath_or_buffer)\u001b[0m\n\u001b[1;32m    708\u001b[0m             \u001b[0;32mor\u001b[0m \u001b[0mfile_exists\u001b[0m\u001b[0;34m(\u001b[0m\u001b[0mfilepath_or_buffer\u001b[0m\u001b[0;34m)\u001b[0m\u001b[0;34m\u001b[0m\u001b[0;34m\u001b[0m\u001b[0m\n\u001b[1;32m    709\u001b[0m         ):\n\u001b[0;32m--> 710\u001b[0;31m             self.handles = get_handle(\n\u001b[0m\u001b[1;32m    711\u001b[0m                 \u001b[0mfilepath_or_buffer\u001b[0m\u001b[0;34m,\u001b[0m\u001b[0;34m\u001b[0m\u001b[0;34m\u001b[0m\u001b[0m\n\u001b[1;32m    712\u001b[0m                 \u001b[0;34m\"r\"\u001b[0m\u001b[0;34m,\u001b[0m\u001b[0;34m\u001b[0m\u001b[0;34m\u001b[0m\u001b[0m\n",
      "\u001b[0;32m~/opt/anaconda3/lib/python3.9/site-packages/pandas/io/common.py\u001b[0m in \u001b[0;36mget_handle\u001b[0;34m(path_or_buf, mode, encoding, compression, memory_map, is_text, errors, storage_options)\u001b[0m\n\u001b[1;32m    665\u001b[0m \u001b[0;34m\u001b[0m\u001b[0m\n\u001b[1;32m    666\u001b[0m     \u001b[0;31m# open URLs\u001b[0m\u001b[0;34m\u001b[0m\u001b[0;34m\u001b[0m\u001b[0m\n\u001b[0;32m--> 667\u001b[0;31m     ioargs = _get_filepath_or_buffer(\n\u001b[0m\u001b[1;32m    668\u001b[0m         \u001b[0mpath_or_buf\u001b[0m\u001b[0;34m,\u001b[0m\u001b[0;34m\u001b[0m\u001b[0;34m\u001b[0m\u001b[0m\n\u001b[1;32m    669\u001b[0m         \u001b[0mencoding\u001b[0m\u001b[0;34m=\u001b[0m\u001b[0mencoding\u001b[0m\u001b[0;34m,\u001b[0m\u001b[0;34m\u001b[0m\u001b[0;34m\u001b[0m\u001b[0m\n",
      "\u001b[0;32m~/opt/anaconda3/lib/python3.9/site-packages/pandas/io/common.py\u001b[0m in \u001b[0;36m_get_filepath_or_buffer\u001b[0;34m(filepath_or_buffer, encoding, compression, mode, storage_options)\u001b[0m\n\u001b[1;32m    339\u001b[0m                 \u001b[0;31m# Override compression based on Content-Encoding header\u001b[0m\u001b[0;34m\u001b[0m\u001b[0;34m\u001b[0m\u001b[0m\n\u001b[1;32m    340\u001b[0m                 \u001b[0mcompression\u001b[0m \u001b[0;34m=\u001b[0m \u001b[0;34m{\u001b[0m\u001b[0;34m\"method\"\u001b[0m\u001b[0;34m:\u001b[0m \u001b[0;34m\"gzip\"\u001b[0m\u001b[0;34m}\u001b[0m\u001b[0;34m\u001b[0m\u001b[0;34m\u001b[0m\u001b[0m\n\u001b[0;32m--> 341\u001b[0;31m             \u001b[0mreader\u001b[0m \u001b[0;34m=\u001b[0m \u001b[0mBytesIO\u001b[0m\u001b[0;34m(\u001b[0m\u001b[0mreq\u001b[0m\u001b[0;34m.\u001b[0m\u001b[0mread\u001b[0m\u001b[0;34m(\u001b[0m\u001b[0;34m)\u001b[0m\u001b[0;34m)\u001b[0m\u001b[0;34m\u001b[0m\u001b[0;34m\u001b[0m\u001b[0m\n\u001b[0m\u001b[1;32m    342\u001b[0m         return IOArgs(\n\u001b[1;32m    343\u001b[0m             \u001b[0mfilepath_or_buffer\u001b[0m\u001b[0;34m=\u001b[0m\u001b[0mreader\u001b[0m\u001b[0;34m,\u001b[0m\u001b[0;34m\u001b[0m\u001b[0;34m\u001b[0m\u001b[0m\n",
      "\u001b[0;32m~/opt/anaconda3/lib/python3.9/http/client.py\u001b[0m in \u001b[0;36mread\u001b[0;34m(self, amt)\u001b[0m\n\u001b[1;32m    474\u001b[0m             \u001b[0;32melse\u001b[0m\u001b[0;34m:\u001b[0m\u001b[0;34m\u001b[0m\u001b[0;34m\u001b[0m\u001b[0m\n\u001b[1;32m    475\u001b[0m                 \u001b[0;32mtry\u001b[0m\u001b[0;34m:\u001b[0m\u001b[0;34m\u001b[0m\u001b[0;34m\u001b[0m\u001b[0m\n\u001b[0;32m--> 476\u001b[0;31m                     \u001b[0ms\u001b[0m \u001b[0;34m=\u001b[0m \u001b[0mself\u001b[0m\u001b[0;34m.\u001b[0m\u001b[0m_safe_read\u001b[0m\u001b[0;34m(\u001b[0m\u001b[0mself\u001b[0m\u001b[0;34m.\u001b[0m\u001b[0mlength\u001b[0m\u001b[0;34m)\u001b[0m\u001b[0;34m\u001b[0m\u001b[0;34m\u001b[0m\u001b[0m\n\u001b[0m\u001b[1;32m    477\u001b[0m                 \u001b[0;32mexcept\u001b[0m \u001b[0mIncompleteRead\u001b[0m\u001b[0;34m:\u001b[0m\u001b[0;34m\u001b[0m\u001b[0;34m\u001b[0m\u001b[0m\n\u001b[1;32m    478\u001b[0m                     \u001b[0mself\u001b[0m\u001b[0;34m.\u001b[0m\u001b[0m_close_conn\u001b[0m\u001b[0;34m(\u001b[0m\u001b[0;34m)\u001b[0m\u001b[0;34m\u001b[0m\u001b[0;34m\u001b[0m\u001b[0m\n",
      "\u001b[0;32m~/opt/anaconda3/lib/python3.9/http/client.py\u001b[0m in \u001b[0;36m_safe_read\u001b[0;34m(self, amt)\u001b[0m\n\u001b[1;32m    624\u001b[0m         \u001b[0ms\u001b[0m \u001b[0;34m=\u001b[0m \u001b[0;34m[\u001b[0m\u001b[0;34m]\u001b[0m\u001b[0;34m\u001b[0m\u001b[0;34m\u001b[0m\u001b[0m\n\u001b[1;32m    625\u001b[0m         \u001b[0;32mwhile\u001b[0m \u001b[0mamt\u001b[0m \u001b[0;34m>\u001b[0m \u001b[0;36m0\u001b[0m\u001b[0;34m:\u001b[0m\u001b[0;34m\u001b[0m\u001b[0;34m\u001b[0m\u001b[0m\n\u001b[0;32m--> 626\u001b[0;31m             \u001b[0mchunk\u001b[0m \u001b[0;34m=\u001b[0m \u001b[0mself\u001b[0m\u001b[0;34m.\u001b[0m\u001b[0mfp\u001b[0m\u001b[0;34m.\u001b[0m\u001b[0mread\u001b[0m\u001b[0;34m(\u001b[0m\u001b[0mmin\u001b[0m\u001b[0;34m(\u001b[0m\u001b[0mamt\u001b[0m\u001b[0;34m,\u001b[0m \u001b[0mMAXAMOUNT\u001b[0m\u001b[0;34m)\u001b[0m\u001b[0;34m)\u001b[0m\u001b[0;34m\u001b[0m\u001b[0;34m\u001b[0m\u001b[0m\n\u001b[0m\u001b[1;32m    627\u001b[0m             \u001b[0;32mif\u001b[0m \u001b[0;32mnot\u001b[0m \u001b[0mchunk\u001b[0m\u001b[0;34m:\u001b[0m\u001b[0;34m\u001b[0m\u001b[0;34m\u001b[0m\u001b[0m\n\u001b[1;32m    628\u001b[0m                 \u001b[0;32mraise\u001b[0m \u001b[0mIncompleteRead\u001b[0m\u001b[0;34m(\u001b[0m\u001b[0;34mb''\u001b[0m\u001b[0;34m.\u001b[0m\u001b[0mjoin\u001b[0m\u001b[0;34m(\u001b[0m\u001b[0ms\u001b[0m\u001b[0;34m)\u001b[0m\u001b[0;34m,\u001b[0m \u001b[0mamt\u001b[0m\u001b[0;34m)\u001b[0m\u001b[0;34m\u001b[0m\u001b[0;34m\u001b[0m\u001b[0m\n",
      "\u001b[0;32m~/opt/anaconda3/lib/python3.9/socket.py\u001b[0m in \u001b[0;36mreadinto\u001b[0;34m(self, b)\u001b[0m\n\u001b[1;32m    702\u001b[0m         \u001b[0;32mwhile\u001b[0m \u001b[0;32mTrue\u001b[0m\u001b[0;34m:\u001b[0m\u001b[0;34m\u001b[0m\u001b[0;34m\u001b[0m\u001b[0m\n\u001b[1;32m    703\u001b[0m             \u001b[0;32mtry\u001b[0m\u001b[0;34m:\u001b[0m\u001b[0;34m\u001b[0m\u001b[0;34m\u001b[0m\u001b[0m\n\u001b[0;32m--> 704\u001b[0;31m                 \u001b[0;32mreturn\u001b[0m \u001b[0mself\u001b[0m\u001b[0;34m.\u001b[0m\u001b[0m_sock\u001b[0m\u001b[0;34m.\u001b[0m\u001b[0mrecv_into\u001b[0m\u001b[0;34m(\u001b[0m\u001b[0mb\u001b[0m\u001b[0;34m)\u001b[0m\u001b[0;34m\u001b[0m\u001b[0;34m\u001b[0m\u001b[0m\n\u001b[0m\u001b[1;32m    705\u001b[0m             \u001b[0;32mexcept\u001b[0m \u001b[0mtimeout\u001b[0m\u001b[0;34m:\u001b[0m\u001b[0;34m\u001b[0m\u001b[0;34m\u001b[0m\u001b[0m\n\u001b[1;32m    706\u001b[0m                 \u001b[0mself\u001b[0m\u001b[0;34m.\u001b[0m\u001b[0m_timeout_occurred\u001b[0m \u001b[0;34m=\u001b[0m \u001b[0;32mTrue\u001b[0m\u001b[0;34m\u001b[0m\u001b[0;34m\u001b[0m\u001b[0m\n",
      "\u001b[0;32m~/opt/anaconda3/lib/python3.9/ssl.py\u001b[0m in \u001b[0;36mrecv_into\u001b[0;34m(self, buffer, nbytes, flags)\u001b[0m\n\u001b[1;32m   1240\u001b[0m                   \u001b[0;34m\"non-zero flags not allowed in calls to recv_into() on %s\"\u001b[0m \u001b[0;34m%\u001b[0m\u001b[0;34m\u001b[0m\u001b[0;34m\u001b[0m\u001b[0m\n\u001b[1;32m   1241\u001b[0m                   self.__class__)\n\u001b[0;32m-> 1242\u001b[0;31m             \u001b[0;32mreturn\u001b[0m \u001b[0mself\u001b[0m\u001b[0;34m.\u001b[0m\u001b[0mread\u001b[0m\u001b[0;34m(\u001b[0m\u001b[0mnbytes\u001b[0m\u001b[0;34m,\u001b[0m \u001b[0mbuffer\u001b[0m\u001b[0;34m)\u001b[0m\u001b[0;34m\u001b[0m\u001b[0;34m\u001b[0m\u001b[0m\n\u001b[0m\u001b[1;32m   1243\u001b[0m         \u001b[0;32melse\u001b[0m\u001b[0;34m:\u001b[0m\u001b[0;34m\u001b[0m\u001b[0;34m\u001b[0m\u001b[0m\n\u001b[1;32m   1244\u001b[0m             \u001b[0;32mreturn\u001b[0m \u001b[0msuper\u001b[0m\u001b[0;34m(\u001b[0m\u001b[0;34m)\u001b[0m\u001b[0;34m.\u001b[0m\u001b[0mrecv_into\u001b[0m\u001b[0;34m(\u001b[0m\u001b[0mbuffer\u001b[0m\u001b[0;34m,\u001b[0m \u001b[0mnbytes\u001b[0m\u001b[0;34m,\u001b[0m \u001b[0mflags\u001b[0m\u001b[0;34m)\u001b[0m\u001b[0;34m\u001b[0m\u001b[0;34m\u001b[0m\u001b[0m\n",
      "\u001b[0;32m~/opt/anaconda3/lib/python3.9/ssl.py\u001b[0m in \u001b[0;36mread\u001b[0;34m(self, len, buffer)\u001b[0m\n\u001b[1;32m   1098\u001b[0m         \u001b[0;32mtry\u001b[0m\u001b[0;34m:\u001b[0m\u001b[0;34m\u001b[0m\u001b[0;34m\u001b[0m\u001b[0m\n\u001b[1;32m   1099\u001b[0m             \u001b[0;32mif\u001b[0m \u001b[0mbuffer\u001b[0m \u001b[0;32mis\u001b[0m \u001b[0;32mnot\u001b[0m \u001b[0;32mNone\u001b[0m\u001b[0;34m:\u001b[0m\u001b[0;34m\u001b[0m\u001b[0;34m\u001b[0m\u001b[0m\n\u001b[0;32m-> 1100\u001b[0;31m                 \u001b[0;32mreturn\u001b[0m \u001b[0mself\u001b[0m\u001b[0;34m.\u001b[0m\u001b[0m_sslobj\u001b[0m\u001b[0;34m.\u001b[0m\u001b[0mread\u001b[0m\u001b[0;34m(\u001b[0m\u001b[0mlen\u001b[0m\u001b[0;34m,\u001b[0m \u001b[0mbuffer\u001b[0m\u001b[0;34m)\u001b[0m\u001b[0;34m\u001b[0m\u001b[0;34m\u001b[0m\u001b[0m\n\u001b[0m\u001b[1;32m   1101\u001b[0m             \u001b[0;32melse\u001b[0m\u001b[0;34m:\u001b[0m\u001b[0;34m\u001b[0m\u001b[0;34m\u001b[0m\u001b[0m\n\u001b[1;32m   1102\u001b[0m                 \u001b[0;32mreturn\u001b[0m \u001b[0mself\u001b[0m\u001b[0;34m.\u001b[0m\u001b[0m_sslobj\u001b[0m\u001b[0;34m.\u001b[0m\u001b[0mread\u001b[0m\u001b[0;34m(\u001b[0m\u001b[0mlen\u001b[0m\u001b[0;34m)\u001b[0m\u001b[0;34m\u001b[0m\u001b[0;34m\u001b[0m\u001b[0m\n",
      "\u001b[0;31mKeyboardInterrupt\u001b[0m: "
     ]
    }
   ],
   "source": [
    "get_data_index_components('000300.XSHG', current_date='20221227')"
   ]
  },
  {
   "cell_type": "code",
   "execution_count": 2,
   "metadata": {},
   "outputs": [],
   "source": [
    "sss = {'a':1,'b':2,'c':3,'d':4,'e':5}\n"
   ]
  },
  {
   "cell_type": "code",
   "execution_count": 6,
   "metadata": {},
   "outputs": [
    {
     "data": {
      "text/plain": [
       "dict_keys(['a', 'b', 'c', 'd', 'e'])"
      ]
     },
     "execution_count": 6,
     "metadata": {},
     "output_type": "execute_result"
    }
   ],
   "source": [
    "sss.keys()"
   ]
  },
  {
   "cell_type": "code",
   "execution_count": 57,
   "metadata": {},
   "outputs": [
    {
     "data": {
      "text/plain": [
       "'2022010'"
      ]
     },
     "execution_count": 57,
     "metadata": {},
     "output_type": "execute_result"
    }
   ],
   "source": [
    "'20220101'[:7]"
   ]
  },
  {
   "cell_type": "code",
   "execution_count": 1,
   "metadata": {},
   "outputs": [],
   "source": [
    "import pandas as pd\n",
    "import numpy as np\n",
    "import h5py"
   ]
  },
  {
   "cell_type": "code",
   "execution_count": 2,
   "metadata": {},
   "outputs": [],
   "source": [
    "pathraw = '/Users/nymath/.rqalpha/bundle'"
   ]
  },
  {
   "cell_type": "code",
   "execution_count": 11,
   "metadata": {},
   "outputs": [],
   "source": [
    "f =  h5py.File(f'{pathraw}/stocks.h5', mode='r')\n"
   ]
  },
  {
   "cell_type": "code",
   "execution_count": 14,
   "metadata": {},
   "outputs": [
    {
     "ename": "TypeError",
     "evalue": "Accessing a group is done with bytes or str,  not <class 'list'>",
     "output_type": "error",
     "traceback": [
      "\u001b[0;31m---------------------------------------------------------------------------\u001b[0m",
      "\u001b[0;31mTypeError\u001b[0m                                 Traceback (most recent call last)",
      "\u001b[0;32m/var/folders/31/rx49cg9n64z7rn2vk4yd8d740000gn/T/ipykernel_9573/3725070983.py\u001b[0m in \u001b[0;36m<module>\u001b[0;34m\u001b[0m\n\u001b[0;32m----> 1\u001b[0;31m \u001b[0mf\u001b[0m\u001b[0;34m[\u001b[0m\u001b[0mtest\u001b[0m\u001b[0;34m[\u001b[0m\u001b[0;34m:\u001b[0m\u001b[0;36m1\u001b[0m\u001b[0;34m]\u001b[0m\u001b[0;34m]\u001b[0m\u001b[0;34m\u001b[0m\u001b[0;34m\u001b[0m\u001b[0m\n\u001b[0m",
      "\u001b[0;32mh5py/_objects.pyx\u001b[0m in \u001b[0;36mh5py._objects.with_phil.wrapper\u001b[0;34m()\u001b[0m\n",
      "\u001b[0;32mh5py/_objects.pyx\u001b[0m in \u001b[0;36mh5py._objects.with_phil.wrapper\u001b[0;34m()\u001b[0m\n",
      "\u001b[0;32m~/opt/anaconda3/lib/python3.9/site-packages/h5py/_hl/group.py\u001b[0m in \u001b[0;36m__getitem__\u001b[0;34m(self, name)\u001b[0m\n\u001b[1;32m    328\u001b[0m             \u001b[0moid\u001b[0m \u001b[0;34m=\u001b[0m \u001b[0mh5o\u001b[0m\u001b[0;34m.\u001b[0m\u001b[0mopen\u001b[0m\u001b[0;34m(\u001b[0m\u001b[0mself\u001b[0m\u001b[0;34m.\u001b[0m\u001b[0mid\u001b[0m\u001b[0;34m,\u001b[0m \u001b[0mself\u001b[0m\u001b[0;34m.\u001b[0m\u001b[0m_e\u001b[0m\u001b[0;34m(\u001b[0m\u001b[0mname\u001b[0m\u001b[0;34m)\u001b[0m\u001b[0;34m,\u001b[0m \u001b[0mlapl\u001b[0m\u001b[0;34m=\u001b[0m\u001b[0mself\u001b[0m\u001b[0;34m.\u001b[0m\u001b[0m_lapl\u001b[0m\u001b[0;34m)\u001b[0m\u001b[0;34m\u001b[0m\u001b[0;34m\u001b[0m\u001b[0m\n\u001b[1;32m    329\u001b[0m         \u001b[0;32melse\u001b[0m\u001b[0;34m:\u001b[0m\u001b[0;34m\u001b[0m\u001b[0;34m\u001b[0m\u001b[0m\n\u001b[0;32m--> 330\u001b[0;31m             raise TypeError(\"Accessing a group is done with bytes or str, \"\n\u001b[0m\u001b[1;32m    331\u001b[0m                             \" not {}\".format(type(name)))\n\u001b[1;32m    332\u001b[0m \u001b[0;34m\u001b[0m\u001b[0m\n",
      "\u001b[0;31mTypeError\u001b[0m: Accessing a group is done with bytes or str,  not <class 'list'>"
     ]
    }
   ],
   "source": [
    "f[test[:1]]"
   ]
  },
  {
   "cell_type": "code",
   "execution_count": null,
   "metadata": {},
   "outputs": [],
   "source": []
  },
  {
   "cell_type": "code",
   "execution_count": 9,
   "metadata": {},
   "outputs": [
    {
     "ename": "TypeError",
     "evalue": "Accessing a group is done with bytes or str,  not <class 'list'>",
     "output_type": "error",
     "traceback": [
      "\u001b[0;31m---------------------------------------------------------------------------\u001b[0m",
      "\u001b[0;31mTypeError\u001b[0m                                 Traceback (most recent call last)",
      "\u001b[0;32m/var/folders/31/rx49cg9n64z7rn2vk4yd8d740000gn/T/ipykernel_9573/2170030222.py\u001b[0m in \u001b[0;36m<module>\u001b[0;34m\u001b[0m\n\u001b[1;32m      1\u001b[0m \u001b[0;32mwith\u001b[0m \u001b[0mh5py\u001b[0m\u001b[0;34m.\u001b[0m\u001b[0mFile\u001b[0m\u001b[0;34m(\u001b[0m\u001b[0;34mf'{pathraw}/stocks.h5'\u001b[0m\u001b[0;34m,\u001b[0m \u001b[0mmode\u001b[0m\u001b[0;34m=\u001b[0m\u001b[0;34m'r'\u001b[0m\u001b[0;34m)\u001b[0m \u001b[0;32mas\u001b[0m \u001b[0mf\u001b[0m\u001b[0;34m:\u001b[0m\u001b[0;34m\u001b[0m\u001b[0;34m\u001b[0m\u001b[0m\n\u001b[1;32m      2\u001b[0m     \u001b[0mtest\u001b[0m \u001b[0;34m=\u001b[0m \u001b[0mlist\u001b[0m\u001b[0;34m(\u001b[0m\u001b[0mf\u001b[0m\u001b[0;34m.\u001b[0m\u001b[0mkeys\u001b[0m\u001b[0;34m(\u001b[0m\u001b[0;34m)\u001b[0m\u001b[0;34m)\u001b[0m\u001b[0;34m\u001b[0m\u001b[0;34m\u001b[0m\u001b[0m\n\u001b[0;32m----> 3\u001b[0;31m     \u001b[0mtemp\u001b[0m \u001b[0;34m=\u001b[0m \u001b[0mf\u001b[0m\u001b[0;34m[\u001b[0m\u001b[0mtest\u001b[0m\u001b[0;34m[\u001b[0m\u001b[0;34m:\u001b[0m\u001b[0;36m2\u001b[0m\u001b[0;34m]\u001b[0m\u001b[0;34m]\u001b[0m\u001b[0;34m[\u001b[0m\u001b[0;34m:\u001b[0m\u001b[0;34m]\u001b[0m\u001b[0;34m\u001b[0m\u001b[0;34m\u001b[0m\u001b[0m\n\u001b[0m",
      "\u001b[0;32mh5py/_objects.pyx\u001b[0m in \u001b[0;36mh5py._objects.with_phil.wrapper\u001b[0;34m()\u001b[0m\n",
      "\u001b[0;32mh5py/_objects.pyx\u001b[0m in \u001b[0;36mh5py._objects.with_phil.wrapper\u001b[0;34m()\u001b[0m\n",
      "\u001b[0;32m~/opt/anaconda3/lib/python3.9/site-packages/h5py/_hl/group.py\u001b[0m in \u001b[0;36m__getitem__\u001b[0;34m(self, name)\u001b[0m\n\u001b[1;32m    328\u001b[0m             \u001b[0moid\u001b[0m \u001b[0;34m=\u001b[0m \u001b[0mh5o\u001b[0m\u001b[0;34m.\u001b[0m\u001b[0mopen\u001b[0m\u001b[0;34m(\u001b[0m\u001b[0mself\u001b[0m\u001b[0;34m.\u001b[0m\u001b[0mid\u001b[0m\u001b[0;34m,\u001b[0m \u001b[0mself\u001b[0m\u001b[0;34m.\u001b[0m\u001b[0m_e\u001b[0m\u001b[0;34m(\u001b[0m\u001b[0mname\u001b[0m\u001b[0;34m)\u001b[0m\u001b[0;34m,\u001b[0m \u001b[0mlapl\u001b[0m\u001b[0;34m=\u001b[0m\u001b[0mself\u001b[0m\u001b[0;34m.\u001b[0m\u001b[0m_lapl\u001b[0m\u001b[0;34m)\u001b[0m\u001b[0;34m\u001b[0m\u001b[0;34m\u001b[0m\u001b[0m\n\u001b[1;32m    329\u001b[0m         \u001b[0;32melse\u001b[0m\u001b[0;34m:\u001b[0m\u001b[0;34m\u001b[0m\u001b[0;34m\u001b[0m\u001b[0m\n\u001b[0;32m--> 330\u001b[0;31m             raise TypeError(\"Accessing a group is done with bytes or str, \"\n\u001b[0m\u001b[1;32m    331\u001b[0m                             \" not {}\".format(type(name)))\n\u001b[1;32m    332\u001b[0m \u001b[0;34m\u001b[0m\u001b[0m\n",
      "\u001b[0;31mTypeError\u001b[0m: Accessing a group is done with bytes or str,  not <class 'list'>"
     ]
    }
   ],
   "source": [
    "with h5py.File(f'{pathraw}/stocks.h5', mode='r') as f:\n",
    "    test = list(f.keys())\n",
    "    temp = f[test[:2]][:]"
   ]
  },
  {
   "cell_type": "code",
   "execution_count": 10,
   "metadata": {},
   "outputs": [
    {
     "data": {
      "text/plain": [
       "['000001.XSHE',\n",
       " '000002.XSHE',\n",
       " '000004.XSHE',\n",
       " '000005.XSHE',\n",
       " '000006.XSHE',\n",
       " '000007.XSHE',\n",
       " '000008.XSHE',\n",
       " '000009.XSHE',\n",
       " '000010.XSHE',\n",
       " '000011.XSHE',\n",
       " '000012.XSHE',\n",
       " '000014.XSHE',\n",
       " '000016.XSHE',\n",
       " '000017.XSHE',\n",
       " '000018.XSHE',\n",
       " '000019.XSHE',\n",
       " '000020.XSHE',\n",
       " '000021.XSHE',\n",
       " '000022.XSHE',\n",
       " '000023.XSHE',\n",
       " '000024.XSHE',\n",
       " '000025.XSHE',\n",
       " '000026.XSHE',\n",
       " '000027.XSHE',\n",
       " '000028.XSHE',\n",
       " '000029.XSHE',\n",
       " '000030.XSHE',\n",
       " '000031.XSHE',\n",
       " '000032.XSHE',\n",
       " '000033.XSHE',\n",
       " '000034.XSHE',\n",
       " '000035.XSHE',\n",
       " '000036.XSHE',\n",
       " '000037.XSHE',\n",
       " '000038.XSHE',\n",
       " '000039.XSHE',\n",
       " '000040.XSHE',\n",
       " '000042.XSHE',\n",
       " '000043.XSHE',\n",
       " '000045.XSHE',\n",
       " '000046.XSHE',\n",
       " '000048.XSHE',\n",
       " '000049.XSHE',\n",
       " '000050.XSHE',\n",
       " '000055.XSHE',\n",
       " '000056.XSHE',\n",
       " '000058.XSHE',\n",
       " '000059.XSHE',\n",
       " '000060.XSHE',\n",
       " '000061.XSHE',\n",
       " '000062.XSHE',\n",
       " '000063.XSHE',\n",
       " '000065.XSHE',\n",
       " '000066.XSHE',\n",
       " '000068.XSHE',\n",
       " '000069.XSHE',\n",
       " '000070.XSHE',\n",
       " '000078.XSHE',\n",
       " '000088.XSHE',\n",
       " '000089.XSHE',\n",
       " '000090.XSHE',\n",
       " '000096.XSHE',\n",
       " '000099.XSHE',\n",
       " '000100.XSHE',\n",
       " '000150.XSHE',\n",
       " '000151.XSHE',\n",
       " '000153.XSHE',\n",
       " '000155.XSHE',\n",
       " '000156.XSHE',\n",
       " '000157.XSHE',\n",
       " '000158.XSHE',\n",
       " '000159.XSHE',\n",
       " '000166.XSHE',\n",
       " '000301.XSHE',\n",
       " '000333.XSHE',\n",
       " '000338.XSHE',\n",
       " '000400.XSHE',\n",
       " '000401.XSHE',\n",
       " '000402.XSHE',\n",
       " '000403.XSHE',\n",
       " '000404.XSHE',\n",
       " '000406.XSHE',\n",
       " '000407.XSHE',\n",
       " '000408.XSHE',\n",
       " '000409.XSHE',\n",
       " '000410.XSHE',\n",
       " '000411.XSHE',\n",
       " '000413.XSHE',\n",
       " '000415.XSHE',\n",
       " '000416.XSHE',\n",
       " '000417.XSHE',\n",
       " '000418.XSHE',\n",
       " '000419.XSHE',\n",
       " '000420.XSHE',\n",
       " '000421.XSHE',\n",
       " '000422.XSHE',\n",
       " '000423.XSHE',\n",
       " '000425.XSHE',\n",
       " '000426.XSHE',\n",
       " '000428.XSHE',\n",
       " '000429.XSHE',\n",
       " '000430.XSHE',\n",
       " '000488.XSHE',\n",
       " '000498.XSHE',\n",
       " '000501.XSHE',\n",
       " '000502.XSHE',\n",
       " '000503.XSHE',\n",
       " '000504.XSHE',\n",
       " '000505.XSHE',\n",
       " '000506.XSHE',\n",
       " '000507.XSHE',\n",
       " '000509.XSHE',\n",
       " '000510.XSHE',\n",
       " '000511.XSHE',\n",
       " '000513.XSHE',\n",
       " '000514.XSHE',\n",
       " '000515.XSHE',\n",
       " '000516.XSHE',\n",
       " '000517.XSHE',\n",
       " '000518.XSHE',\n",
       " '000519.XSHE',\n",
       " '000520.XSHE',\n",
       " '000521.XSHE',\n",
       " '000522.XSHE',\n",
       " '000523.XSHE',\n",
       " '000524.XSHE',\n",
       " '000525.XSHE',\n",
       " '000526.XSHE',\n",
       " '000527.XSHE',\n",
       " '000528.XSHE',\n",
       " '000529.XSHE',\n",
       " '000530.XSHE',\n",
       " '000531.XSHE',\n",
       " '000532.XSHE',\n",
       " '000533.XSHE',\n",
       " '000534.XSHE',\n",
       " '000535.XSHE',\n",
       " '000536.XSHE',\n",
       " '000537.XSHE',\n",
       " '000538.XSHE',\n",
       " '000539.XSHE',\n",
       " '000540.XSHE',\n",
       " '000541.XSHE',\n",
       " '000543.XSHE',\n",
       " '000544.XSHE',\n",
       " '000545.XSHE',\n",
       " '000546.XSHE',\n",
       " '000547.XSHE',\n",
       " '000548.XSHE',\n",
       " '000549.XSHE',\n",
       " '000550.XSHE',\n",
       " '000551.XSHE',\n",
       " '000552.XSHE',\n",
       " '000553.XSHE',\n",
       " '000554.XSHE',\n",
       " '000555.XSHE',\n",
       " '000557.XSHE',\n",
       " '000558.XSHE',\n",
       " '000559.XSHE',\n",
       " '000560.XSHE',\n",
       " '000561.XSHE',\n",
       " '000562.XSHE',\n",
       " '000563.XSHE',\n",
       " '000564.XSHE',\n",
       " '000565.XSHE',\n",
       " '000566.XSHE',\n",
       " '000567.XSHE',\n",
       " '000568.XSHE',\n",
       " '000569.XSHE',\n",
       " '000570.XSHE',\n",
       " '000571.XSHE',\n",
       " '000572.XSHE',\n",
       " '000573.XSHE',\n",
       " '000576.XSHE',\n",
       " '000578.XSHE',\n",
       " '000581.XSHE',\n",
       " '000582.XSHE',\n",
       " '000583.XSHE',\n",
       " '000584.XSHE',\n",
       " '000585.XSHE',\n",
       " '000586.XSHE',\n",
       " '000587.XSHE',\n",
       " '000589.XSHE',\n",
       " '000590.XSHE',\n",
       " '000591.XSHE',\n",
       " '000592.XSHE',\n",
       " '000593.XSHE',\n",
       " '000594.XSHE',\n",
       " '000595.XSHE',\n",
       " '000596.XSHE',\n",
       " '000597.XSHE',\n",
       " '000598.XSHE',\n",
       " '000599.XSHE',\n",
       " '000600.XSHE',\n",
       " '000601.XSHE',\n",
       " '000602.XSHE',\n",
       " '000603.XSHE',\n",
       " '000605.XSHE',\n",
       " '000606.XSHE',\n",
       " '000607.XSHE',\n",
       " '000608.XSHE',\n",
       " '000609.XSHE',\n",
       " '000610.XSHE',\n",
       " '000611.XSHE',\n",
       " '000612.XSHE',\n",
       " '000613.XSHE',\n",
       " '000615.XSHE',\n",
       " '000616.XSHE',\n",
       " '000617.XSHE',\n",
       " '000618.XSHE',\n",
       " '000619.XSHE',\n",
       " '000620.XSHE',\n",
       " '000622.XSHE',\n",
       " '000623.XSHE',\n",
       " '000625.XSHE',\n",
       " '000626.XSHE',\n",
       " '000627.XSHE',\n",
       " '000628.XSHE',\n",
       " '000629.XSHE',\n",
       " '000630.XSHE',\n",
       " '000631.XSHE',\n",
       " '000632.XSHE',\n",
       " '000633.XSHE',\n",
       " '000635.XSHE',\n",
       " '000636.XSHE',\n",
       " '000637.XSHE',\n",
       " '000638.XSHE',\n",
       " '000639.XSHE',\n",
       " '000650.XSHE',\n",
       " '000651.XSHE',\n",
       " '000652.XSHE',\n",
       " '000655.XSHE',\n",
       " '000656.XSHE',\n",
       " '000657.XSHE',\n",
       " '000659.XSHE',\n",
       " '000661.XSHE',\n",
       " '000662.XSHE',\n",
       " '000663.XSHE',\n",
       " '000665.XSHE',\n",
       " '000666.XSHE',\n",
       " '000667.XSHE',\n",
       " '000668.XSHE',\n",
       " '000669.XSHE',\n",
       " '000670.XSHE',\n",
       " '000671.XSHE',\n",
       " '000672.XSHE',\n",
       " '000673.XSHE',\n",
       " '000676.XSHE',\n",
       " '000677.XSHE',\n",
       " '000678.XSHE',\n",
       " '000679.XSHE',\n",
       " '000680.XSHE',\n",
       " '000681.XSHE',\n",
       " '000682.XSHE',\n",
       " '000683.XSHE',\n",
       " '000685.XSHE',\n",
       " '000686.XSHE',\n",
       " '000687.XSHE',\n",
       " '000688.XSHE',\n",
       " '000690.XSHE',\n",
       " '000691.XSHE',\n",
       " '000692.XSHE',\n",
       " '000693.XSHE',\n",
       " '000695.XSHE',\n",
       " '000697.XSHE',\n",
       " '000698.XSHE',\n",
       " '000699.XSHE',\n",
       " '000700.XSHE',\n",
       " '000701.XSHE',\n",
       " '000702.XSHE',\n",
       " '000703.XSHE',\n",
       " '000705.XSHE',\n",
       " '000707.XSHE',\n",
       " '000708.XSHE',\n",
       " '000709.XSHE',\n",
       " '000710.XSHE',\n",
       " '000711.XSHE',\n",
       " '000712.XSHE',\n",
       " '000713.XSHE',\n",
       " '000715.XSHE',\n",
       " '000716.XSHE',\n",
       " '000717.XSHE',\n",
       " '000718.XSHE',\n",
       " '000719.XSHE',\n",
       " '000720.XSHE',\n",
       " '000721.XSHE',\n",
       " '000722.XSHE',\n",
       " '000723.XSHE',\n",
       " '000725.XSHE',\n",
       " '000726.XSHE',\n",
       " '000727.XSHE',\n",
       " '000728.XSHE',\n",
       " '000729.XSHE',\n",
       " '000731.XSHE',\n",
       " '000732.XSHE',\n",
       " '000733.XSHE',\n",
       " '000735.XSHE',\n",
       " '000736.XSHE',\n",
       " '000737.XSHE',\n",
       " '000738.XSHE',\n",
       " '000739.XSHE',\n",
       " '000748.XSHE',\n",
       " '000750.XSHE',\n",
       " '000751.XSHE',\n",
       " '000752.XSHE',\n",
       " '000753.XSHE',\n",
       " '000755.XSHE',\n",
       " '000756.XSHE',\n",
       " '000757.XSHE',\n",
       " '000758.XSHE',\n",
       " '000759.XSHE',\n",
       " '000760.XSHE',\n",
       " '000761.XSHE',\n",
       " '000762.XSHE',\n",
       " '000763.XSHE',\n",
       " '000765.XSHE',\n",
       " '000766.XSHE',\n",
       " '000767.XSHE',\n",
       " '000768.XSHE',\n",
       " '000769.XSHE',\n",
       " '000776.XSHE',\n",
       " '000777.XSHE',\n",
       " '000778.XSHE',\n",
       " '000779.XSHE',\n",
       " '000780.XSHE',\n",
       " '000782.XSHE',\n",
       " '000783.XSHE',\n",
       " '000785.XSHE',\n",
       " '000786.XSHE',\n",
       " '000787.XSHE',\n",
       " '000788.XSHE',\n",
       " '000789.XSHE',\n",
       " '000790.XSHE',\n",
       " '000791.XSHE',\n",
       " '000792.XSHE',\n",
       " '000793.XSHE',\n",
       " '000795.XSHE',\n",
       " '000796.XSHE',\n",
       " '000797.XSHE',\n",
       " '000798.XSHE',\n",
       " '000799.XSHE',\n",
       " '000800.XSHE',\n",
       " '000801.XSHE',\n",
       " '000802.XSHE',\n",
       " '000803.XSHE',\n",
       " '000805.XSHE',\n",
       " '000806.XSHE',\n",
       " '000807.XSHE',\n",
       " '000809.XSHE',\n",
       " '000810.XSHE',\n",
       " '000811.XSHE',\n",
       " '000812.XSHE',\n",
       " '000813.XSHE',\n",
       " '000815.XSHE',\n",
       " '000816.XSHE',\n",
       " '000817.XSHE',\n",
       " '000818.XSHE',\n",
       " '000819.XSHE',\n",
       " '000820.XSHE',\n",
       " '000821.XSHE',\n",
       " '000822.XSHE',\n",
       " '000823.XSHE',\n",
       " '000825.XSHE',\n",
       " '000826.XSHE',\n",
       " '000827.XSHE',\n",
       " '000828.XSHE',\n",
       " '000829.XSHE',\n",
       " '000830.XSHE',\n",
       " '000831.XSHE',\n",
       " '000832.XSHE',\n",
       " '000833.XSHE',\n",
       " '000835.XSHE',\n",
       " '000836.XSHE',\n",
       " '000837.XSHE',\n",
       " '000838.XSHE',\n",
       " '000839.XSHE',\n",
       " '000848.XSHE',\n",
       " '000850.XSHE',\n",
       " '000851.XSHE',\n",
       " '000852.XSHE',\n",
       " '000856.XSHE',\n",
       " '000858.XSHE',\n",
       " '000859.XSHE',\n",
       " '000860.XSHE',\n",
       " '000861.XSHE',\n",
       " '000862.XSHE',\n",
       " '000863.XSHE',\n",
       " '000866.XSHE',\n",
       " '000868.XSHE',\n",
       " '000869.XSHE',\n",
       " '000875.XSHE',\n",
       " '000876.XSHE',\n",
       " '000877.XSHE',\n",
       " '000878.XSHE',\n",
       " '000880.XSHE',\n",
       " '000881.XSHE',\n",
       " '000882.XSHE',\n",
       " '000883.XSHE',\n",
       " '000885.XSHE',\n",
       " '000886.XSHE',\n",
       " '000887.XSHE',\n",
       " '000888.XSHE',\n",
       " '000889.XSHE',\n",
       " '000890.XSHE',\n",
       " '000892.XSHE',\n",
       " '000893.XSHE',\n",
       " '000895.XSHE',\n",
       " '000897.XSHE',\n",
       " '000898.XSHE',\n",
       " '000899.XSHE',\n",
       " '000900.XSHE',\n",
       " '000901.XSHE',\n",
       " '000902.XSHE',\n",
       " '000903.XSHE',\n",
       " '000905.XSHE',\n",
       " '000906.XSHE',\n",
       " '000908.XSHE',\n",
       " '000909.XSHE',\n",
       " '000910.XSHE',\n",
       " '000911.XSHE',\n",
       " '000912.XSHE',\n",
       " '000913.XSHE',\n",
       " '000915.XSHE',\n",
       " '000916.XSHE',\n",
       " '000917.XSHE',\n",
       " '000918.XSHE',\n",
       " '000919.XSHE',\n",
       " '000920.XSHE',\n",
       " '000921.XSHE',\n",
       " '000922.XSHE',\n",
       " '000923.XSHE',\n",
       " '000925.XSHE',\n",
       " '000926.XSHE',\n",
       " '000927.XSHE',\n",
       " '000928.XSHE',\n",
       " '000929.XSHE',\n",
       " '000930.XSHE',\n",
       " '000931.XSHE',\n",
       " '000932.XSHE',\n",
       " '000933.XSHE',\n",
       " '000935.XSHE',\n",
       " '000936.XSHE',\n",
       " '000937.XSHE',\n",
       " '000938.XSHE',\n",
       " '000939.XSHE',\n",
       " '000948.XSHE',\n",
       " '000949.XSHE',\n",
       " '000950.XSHE',\n",
       " '000951.XSHE',\n",
       " '000952.XSHE',\n",
       " '000953.XSHE',\n",
       " '000955.XSHE',\n",
       " '000956.XSHE',\n",
       " '000957.XSHE',\n",
       " '000958.XSHE',\n",
       " '000959.XSHE',\n",
       " '000960.XSHE',\n",
       " '000961.XSHE',\n",
       " '000962.XSHE',\n",
       " '000963.XSHE',\n",
       " '000965.XSHE',\n",
       " '000966.XSHE',\n",
       " '000967.XSHE',\n",
       " '000968.XSHE',\n",
       " '000969.XSHE',\n",
       " '000970.XSHE',\n",
       " '000971.XSHE',\n",
       " '000972.XSHE',\n",
       " '000973.XSHE',\n",
       " '000975.XSHE',\n",
       " '000976.XSHE',\n",
       " '000977.XSHE',\n",
       " '000978.XSHE',\n",
       " '000979.XSHE',\n",
       " '000980.XSHE',\n",
       " '000981.XSHE',\n",
       " '000982.XSHE',\n",
       " '000983.XSHE',\n",
       " '000985.XSHE',\n",
       " '000987.XSHE',\n",
       " '000988.XSHE',\n",
       " '000989.XSHE',\n",
       " '000990.XSHE',\n",
       " '000993.XSHE',\n",
       " '000995.XSHE',\n",
       " '000996.XSHE',\n",
       " '000997.XSHE',\n",
       " '000998.XSHE',\n",
       " '000999.XSHE',\n",
       " '001201.XSHE',\n",
       " '001202.XSHE',\n",
       " '001203.XSHE',\n",
       " '001205.XSHE',\n",
       " '001206.XSHE',\n",
       " '001207.XSHE',\n",
       " '001208.XSHE',\n",
       " '001209.XSHE',\n",
       " '001210.XSHE',\n",
       " '001211.XSHE',\n",
       " '001212.XSHE',\n",
       " '001213.XSHE',\n",
       " '001215.XSHE',\n",
       " '001216.XSHE',\n",
       " '001217.XSHE',\n",
       " '001218.XSHE',\n",
       " '001219.XSHE',\n",
       " '001222.XSHE',\n",
       " '001226.XSHE',\n",
       " '001227.XSHE',\n",
       " '001228.XSHE',\n",
       " '001229.XSHE',\n",
       " '001230.XSHE',\n",
       " '001231.XSHE',\n",
       " '001234.XSHE',\n",
       " '001236.XSHE',\n",
       " '001238.XSHE',\n",
       " '001255.XSHE',\n",
       " '001258.XSHE',\n",
       " '001259.XSHE',\n",
       " '001266.XSHE',\n",
       " '001267.XSHE',\n",
       " '001268.XSHE',\n",
       " '001269.XSHE',\n",
       " '001270.XSHE',\n",
       " '001283.XSHE',\n",
       " '001288.XSHE',\n",
       " '001289.XSHE',\n",
       " '001296.XSHE',\n",
       " '001298.XSHE',\n",
       " '001299.XSHE',\n",
       " '001300.XSHE',\n",
       " '001308.XSHE',\n",
       " '001309.XSHE',\n",
       " '001313.XSHE',\n",
       " '001316.XSHE',\n",
       " '001317.XSHE',\n",
       " '001318.XSHE',\n",
       " '001319.XSHE',\n",
       " '001322.XSHE',\n",
       " '001323.XSHE',\n",
       " '001330.XSHE',\n",
       " '001331.XSHE',\n",
       " '001332.XSHE',\n",
       " '001336.XSHE',\n",
       " '001338.XSHE',\n",
       " '001339.XSHE',\n",
       " '001696.XSHE',\n",
       " '001872.XSHE',\n",
       " '001896.XSHE',\n",
       " '001914.XSHE',\n",
       " '001965.XSHE',\n",
       " '001979.XSHE',\n",
       " '002001.XSHE',\n",
       " '002002.XSHE',\n",
       " '002003.XSHE',\n",
       " '002004.XSHE',\n",
       " '002005.XSHE',\n",
       " '002006.XSHE',\n",
       " '002007.XSHE',\n",
       " '002008.XSHE',\n",
       " '002009.XSHE',\n",
       " '002010.XSHE',\n",
       " '002011.XSHE',\n",
       " '002012.XSHE',\n",
       " '002013.XSHE',\n",
       " '002014.XSHE',\n",
       " '002015.XSHE',\n",
       " '002016.XSHE',\n",
       " '002017.XSHE',\n",
       " '002018.XSHE',\n",
       " '002019.XSHE',\n",
       " '002020.XSHE',\n",
       " '002021.XSHE',\n",
       " '002022.XSHE',\n",
       " '002023.XSHE',\n",
       " '002024.XSHE',\n",
       " '002025.XSHE',\n",
       " '002026.XSHE',\n",
       " '002027.XSHE',\n",
       " '002028.XSHE',\n",
       " '002029.XSHE',\n",
       " '002030.XSHE',\n",
       " '002031.XSHE',\n",
       " '002032.XSHE',\n",
       " '002033.XSHE',\n",
       " '002034.XSHE',\n",
       " '002035.XSHE',\n",
       " '002036.XSHE',\n",
       " '002037.XSHE',\n",
       " '002038.XSHE',\n",
       " '002039.XSHE',\n",
       " '002040.XSHE',\n",
       " '002041.XSHE',\n",
       " '002042.XSHE',\n",
       " '002043.XSHE',\n",
       " '002044.XSHE',\n",
       " '002045.XSHE',\n",
       " '002046.XSHE',\n",
       " '002047.XSHE',\n",
       " '002048.XSHE',\n",
       " '002049.XSHE',\n",
       " '002050.XSHE',\n",
       " '002051.XSHE',\n",
       " '002052.XSHE',\n",
       " '002053.XSHE',\n",
       " '002054.XSHE',\n",
       " '002055.XSHE',\n",
       " '002056.XSHE',\n",
       " '002057.XSHE',\n",
       " '002058.XSHE',\n",
       " '002059.XSHE',\n",
       " '002060.XSHE',\n",
       " '002061.XSHE',\n",
       " '002062.XSHE',\n",
       " '002063.XSHE',\n",
       " '002064.XSHE',\n",
       " '002065.XSHE',\n",
       " '002066.XSHE',\n",
       " '002067.XSHE',\n",
       " '002068.XSHE',\n",
       " '002069.XSHE',\n",
       " '002070.XSHE',\n",
       " '002071.XSHE',\n",
       " '002072.XSHE',\n",
       " '002073.XSHE',\n",
       " '002074.XSHE',\n",
       " '002075.XSHE',\n",
       " '002076.XSHE',\n",
       " '002077.XSHE',\n",
       " '002078.XSHE',\n",
       " '002079.XSHE',\n",
       " '002080.XSHE',\n",
       " '002081.XSHE',\n",
       " '002082.XSHE',\n",
       " '002083.XSHE',\n",
       " '002084.XSHE',\n",
       " '002085.XSHE',\n",
       " '002086.XSHE',\n",
       " '002087.XSHE',\n",
       " '002088.XSHE',\n",
       " '002089.XSHE',\n",
       " '002090.XSHE',\n",
       " '002091.XSHE',\n",
       " '002092.XSHE',\n",
       " '002093.XSHE',\n",
       " '002094.XSHE',\n",
       " '002095.XSHE',\n",
       " '002096.XSHE',\n",
       " '002097.XSHE',\n",
       " '002098.XSHE',\n",
       " '002099.XSHE',\n",
       " '002100.XSHE',\n",
       " '002101.XSHE',\n",
       " '002102.XSHE',\n",
       " '002103.XSHE',\n",
       " '002104.XSHE',\n",
       " '002105.XSHE',\n",
       " '002106.XSHE',\n",
       " '002107.XSHE',\n",
       " '002108.XSHE',\n",
       " '002109.XSHE',\n",
       " '002110.XSHE',\n",
       " '002111.XSHE',\n",
       " '002112.XSHE',\n",
       " '002113.XSHE',\n",
       " '002114.XSHE',\n",
       " '002115.XSHE',\n",
       " '002116.XSHE',\n",
       " '002117.XSHE',\n",
       " '002118.XSHE',\n",
       " '002119.XSHE',\n",
       " '002120.XSHE',\n",
       " '002121.XSHE',\n",
       " '002122.XSHE',\n",
       " '002123.XSHE',\n",
       " '002124.XSHE',\n",
       " '002125.XSHE',\n",
       " '002126.XSHE',\n",
       " '002127.XSHE',\n",
       " '002128.XSHE',\n",
       " '002129.XSHE',\n",
       " '002130.XSHE',\n",
       " '002131.XSHE',\n",
       " '002132.XSHE',\n",
       " '002133.XSHE',\n",
       " '002134.XSHE',\n",
       " '002135.XSHE',\n",
       " '002136.XSHE',\n",
       " '002137.XSHE',\n",
       " '002138.XSHE',\n",
       " '002139.XSHE',\n",
       " '002140.XSHE',\n",
       " '002141.XSHE',\n",
       " '002142.XSHE',\n",
       " '002143.XSHE',\n",
       " '002144.XSHE',\n",
       " '002145.XSHE',\n",
       " '002146.XSHE',\n",
       " '002147.XSHE',\n",
       " '002148.XSHE',\n",
       " '002149.XSHE',\n",
       " '002150.XSHE',\n",
       " '002151.XSHE',\n",
       " '002152.XSHE',\n",
       " '002153.XSHE',\n",
       " '002154.XSHE',\n",
       " '002155.XSHE',\n",
       " '002156.XSHE',\n",
       " '002157.XSHE',\n",
       " '002158.XSHE',\n",
       " '002159.XSHE',\n",
       " '002160.XSHE',\n",
       " '002161.XSHE',\n",
       " '002162.XSHE',\n",
       " '002163.XSHE',\n",
       " '002164.XSHE',\n",
       " '002165.XSHE',\n",
       " '002166.XSHE',\n",
       " '002167.XSHE',\n",
       " '002168.XSHE',\n",
       " '002169.XSHE',\n",
       " '002170.XSHE',\n",
       " '002171.XSHE',\n",
       " '002172.XSHE',\n",
       " '002173.XSHE',\n",
       " '002174.XSHE',\n",
       " '002175.XSHE',\n",
       " '002176.XSHE',\n",
       " '002177.XSHE',\n",
       " '002178.XSHE',\n",
       " '002179.XSHE',\n",
       " '002180.XSHE',\n",
       " '002181.XSHE',\n",
       " '002182.XSHE',\n",
       " '002183.XSHE',\n",
       " '002184.XSHE',\n",
       " '002185.XSHE',\n",
       " '002186.XSHE',\n",
       " '002187.XSHE',\n",
       " '002188.XSHE',\n",
       " '002189.XSHE',\n",
       " '002190.XSHE',\n",
       " '002191.XSHE',\n",
       " '002192.XSHE',\n",
       " '002193.XSHE',\n",
       " '002194.XSHE',\n",
       " '002195.XSHE',\n",
       " '002196.XSHE',\n",
       " '002197.XSHE',\n",
       " '002198.XSHE',\n",
       " '002199.XSHE',\n",
       " '002200.XSHE',\n",
       " '002201.XSHE',\n",
       " '002202.XSHE',\n",
       " '002203.XSHE',\n",
       " '002204.XSHE',\n",
       " '002205.XSHE',\n",
       " '002206.XSHE',\n",
       " '002207.XSHE',\n",
       " '002208.XSHE',\n",
       " '002209.XSHE',\n",
       " '002210.XSHE',\n",
       " '002211.XSHE',\n",
       " '002212.XSHE',\n",
       " '002213.XSHE',\n",
       " '002214.XSHE',\n",
       " '002215.XSHE',\n",
       " '002216.XSHE',\n",
       " '002217.XSHE',\n",
       " '002218.XSHE',\n",
       " '002219.XSHE',\n",
       " '002220.XSHE',\n",
       " '002221.XSHE',\n",
       " '002222.XSHE',\n",
       " '002223.XSHE',\n",
       " '002224.XSHE',\n",
       " '002225.XSHE',\n",
       " '002226.XSHE',\n",
       " '002227.XSHE',\n",
       " '002228.XSHE',\n",
       " '002229.XSHE',\n",
       " '002230.XSHE',\n",
       " '002231.XSHE',\n",
       " '002232.XSHE',\n",
       " '002233.XSHE',\n",
       " '002234.XSHE',\n",
       " '002235.XSHE',\n",
       " '002236.XSHE',\n",
       " '002237.XSHE',\n",
       " '002238.XSHE',\n",
       " '002239.XSHE',\n",
       " '002240.XSHE',\n",
       " '002241.XSHE',\n",
       " '002242.XSHE',\n",
       " '002243.XSHE',\n",
       " '002244.XSHE',\n",
       " '002245.XSHE',\n",
       " '002246.XSHE',\n",
       " '002247.XSHE',\n",
       " '002248.XSHE',\n",
       " '002249.XSHE',\n",
       " '002250.XSHE',\n",
       " '002251.XSHE',\n",
       " '002252.XSHE',\n",
       " '002253.XSHE',\n",
       " '002254.XSHE',\n",
       " '002255.XSHE',\n",
       " '002256.XSHE',\n",
       " '002258.XSHE',\n",
       " '002259.XSHE',\n",
       " '002260.XSHE',\n",
       " '002261.XSHE',\n",
       " '002262.XSHE',\n",
       " '002263.XSHE',\n",
       " '002264.XSHE',\n",
       " '002265.XSHE',\n",
       " '002266.XSHE',\n",
       " '002267.XSHE',\n",
       " '002268.XSHE',\n",
       " '002269.XSHE',\n",
       " '002270.XSHE',\n",
       " '002271.XSHE',\n",
       " '002272.XSHE',\n",
       " '002273.XSHE',\n",
       " '002274.XSHE',\n",
       " '002275.XSHE',\n",
       " '002276.XSHE',\n",
       " '002277.XSHE',\n",
       " '002278.XSHE',\n",
       " '002279.XSHE',\n",
       " '002280.XSHE',\n",
       " '002281.XSHE',\n",
       " '002282.XSHE',\n",
       " '002283.XSHE',\n",
       " '002284.XSHE',\n",
       " '002285.XSHE',\n",
       " '002286.XSHE',\n",
       " '002287.XSHE',\n",
       " '002288.XSHE',\n",
       " '002289.XSHE',\n",
       " '002290.XSHE',\n",
       " '002291.XSHE',\n",
       " '002292.XSHE',\n",
       " '002293.XSHE',\n",
       " '002294.XSHE',\n",
       " '002295.XSHE',\n",
       " '002296.XSHE',\n",
       " '002297.XSHE',\n",
       " '002298.XSHE',\n",
       " '002299.XSHE',\n",
       " '002300.XSHE',\n",
       " '002301.XSHE',\n",
       " '002302.XSHE',\n",
       " '002303.XSHE',\n",
       " '002304.XSHE',\n",
       " '002305.XSHE',\n",
       " '002306.XSHE',\n",
       " '002307.XSHE',\n",
       " '002308.XSHE',\n",
       " '002309.XSHE',\n",
       " '002310.XSHE',\n",
       " '002311.XSHE',\n",
       " '002312.XSHE',\n",
       " '002313.XSHE',\n",
       " '002314.XSHE',\n",
       " '002315.XSHE',\n",
       " '002316.XSHE',\n",
       " '002317.XSHE',\n",
       " '002318.XSHE',\n",
       " '002319.XSHE',\n",
       " '002320.XSHE',\n",
       " '002321.XSHE',\n",
       " '002322.XSHE',\n",
       " '002323.XSHE',\n",
       " '002324.XSHE',\n",
       " '002325.XSHE',\n",
       " '002326.XSHE',\n",
       " '002327.XSHE',\n",
       " '002328.XSHE',\n",
       " '002329.XSHE',\n",
       " '002330.XSHE',\n",
       " '002331.XSHE',\n",
       " '002332.XSHE',\n",
       " '002333.XSHE',\n",
       " '002334.XSHE',\n",
       " '002335.XSHE',\n",
       " '002336.XSHE',\n",
       " '002337.XSHE',\n",
       " '002338.XSHE',\n",
       " '002339.XSHE',\n",
       " '002340.XSHE',\n",
       " '002341.XSHE',\n",
       " '002342.XSHE',\n",
       " '002343.XSHE',\n",
       " '002344.XSHE',\n",
       " '002345.XSHE',\n",
       " '002346.XSHE',\n",
       " '002347.XSHE',\n",
       " '002348.XSHE',\n",
       " '002349.XSHE',\n",
       " '002350.XSHE',\n",
       " '002351.XSHE',\n",
       " '002352.XSHE',\n",
       " '002353.XSHE',\n",
       " '002354.XSHE',\n",
       " '002355.XSHE',\n",
       " '002356.XSHE',\n",
       " '002357.XSHE',\n",
       " '002358.XSHE',\n",
       " '002359.XSHE',\n",
       " '002360.XSHE',\n",
       " '002361.XSHE',\n",
       " '002362.XSHE',\n",
       " '002363.XSHE',\n",
       " '002364.XSHE',\n",
       " '002365.XSHE',\n",
       " '002366.XSHE',\n",
       " '002367.XSHE',\n",
       " '002368.XSHE',\n",
       " '002369.XSHE',\n",
       " '002370.XSHE',\n",
       " '002371.XSHE',\n",
       " '002372.XSHE',\n",
       " '002373.XSHE',\n",
       " '002374.XSHE',\n",
       " '002375.XSHE',\n",
       " '002376.XSHE',\n",
       " '002377.XSHE',\n",
       " '002378.XSHE',\n",
       " '002379.XSHE',\n",
       " '002380.XSHE',\n",
       " '002381.XSHE',\n",
       " '002382.XSHE',\n",
       " '002383.XSHE',\n",
       " '002384.XSHE',\n",
       " '002385.XSHE',\n",
       " '002386.XSHE',\n",
       " '002387.XSHE',\n",
       " '002388.XSHE',\n",
       " '002389.XSHE',\n",
       " '002390.XSHE',\n",
       " '002391.XSHE',\n",
       " '002392.XSHE',\n",
       " '002393.XSHE',\n",
       " '002394.XSHE',\n",
       " '002395.XSHE',\n",
       " '002396.XSHE',\n",
       " '002397.XSHE',\n",
       " '002398.XSHE',\n",
       " '002399.XSHE',\n",
       " '002400.XSHE',\n",
       " '002401.XSHE',\n",
       " '002402.XSHE',\n",
       " '002403.XSHE',\n",
       " '002404.XSHE',\n",
       " '002405.XSHE',\n",
       " '002406.XSHE',\n",
       " '002407.XSHE',\n",
       " '002408.XSHE',\n",
       " '002409.XSHE',\n",
       " '002410.XSHE',\n",
       " '002411.XSHE',\n",
       " '002412.XSHE',\n",
       " '002413.XSHE',\n",
       " '002414.XSHE',\n",
       " '002415.XSHE',\n",
       " '002416.XSHE',\n",
       " '002417.XSHE',\n",
       " '002418.XSHE',\n",
       " '002419.XSHE',\n",
       " '002420.XSHE',\n",
       " '002421.XSHE',\n",
       " '002422.XSHE',\n",
       " '002423.XSHE',\n",
       " '002424.XSHE',\n",
       " '002425.XSHE',\n",
       " '002426.XSHE',\n",
       " '002427.XSHE',\n",
       " '002428.XSHE',\n",
       " '002429.XSHE',\n",
       " '002430.XSHE',\n",
       " '002431.XSHE',\n",
       " '002432.XSHE',\n",
       " '002433.XSHE',\n",
       " '002434.XSHE',\n",
       " '002435.XSHE',\n",
       " '002436.XSHE',\n",
       " '002437.XSHE',\n",
       " '002438.XSHE',\n",
       " '002439.XSHE',\n",
       " '002440.XSHE',\n",
       " '002441.XSHE',\n",
       " '002442.XSHE',\n",
       " '002443.XSHE',\n",
       " '002444.XSHE',\n",
       " '002445.XSHE',\n",
       " '002446.XSHE',\n",
       " '002447.XSHE',\n",
       " '002448.XSHE',\n",
       " '002449.XSHE',\n",
       " ...]"
      ]
     },
     "execution_count": 10,
     "metadata": {},
     "output_type": "execute_result"
    }
   ],
   "source": [
    "test"
   ]
  },
  {
   "cell_type": "code",
   "execution_count": 15,
   "metadata": {},
   "outputs": [],
   "source": [
    "set1 = {1,2,3}"
   ]
  },
  {
   "cell_type": "code",
   "execution_count": 16,
   "metadata": {},
   "outputs": [],
   "source": [
    "set2 = {2,3,4}"
   ]
  },
  {
   "cell_type": "code",
   "execution_count": 17,
   "metadata": {},
   "outputs": [],
   "source": [
    "llst = pd.Series([1,2,3,4])"
   ]
  },
  {
   "cell_type": "code",
   "execution_count": null,
   "metadata": {},
   "outputs": [],
   "source": []
  }
 ],
 "metadata": {
  "kernelspec": {
   "display_name": "base",
   "language": "python",
   "name": "python3"
  },
  "language_info": {
   "codemirror_mode": {
    "name": "ipython",
    "version": 3
   },
   "file_extension": ".py",
   "mimetype": "text/x-python",
   "name": "python",
   "nbconvert_exporter": "python",
   "pygments_lexer": "ipython3",
   "version": "3.9.13"
  },
  "orig_nbformat": 4,
  "vscode": {
   "interpreter": {
    "hash": "079e87f824df5e6b38a7b88e40dc2ff705d3b55588765c4fa4284c46fb940b2a"
   }
  }
 },
 "nbformat": 4,
 "nbformat_minor": 2
}
